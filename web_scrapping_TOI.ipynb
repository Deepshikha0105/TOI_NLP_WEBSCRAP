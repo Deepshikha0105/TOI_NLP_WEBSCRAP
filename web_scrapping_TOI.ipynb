{
 "cells": [
  {
   "cell_type": "code",
   "execution_count": null,
   "id": "970d86f7",
   "metadata": {},
   "outputs": [],
   "source": []
  },
  {
   "cell_type": "markdown",
   "id": "77506862",
   "metadata": {},
   "source": [
    " <div style=\"background-color: lightgreen; \">\n",
    "    <p style=\"font-size: 24px; font-weight: bold; color: darkgreen;text-align: center;\">Assignment: Text Classification using Hugging Face\n",
    "</p>\n",
    "</div>\n",
    "\n",
    "\n",
    "#### <font color='darkgreen'>Objective: The goal of this assignment is to build a text classification model using the Hugging Face library to classify a dataset of text into one of multiple categories. The candidate will use a pre-trained model such as BERT or GPT-2 as a starting point and fine-tune it on the classification task.</font>\n",
    "\n",
    "\n",
    "\n"
   ]
  },
  {
   "cell_type": "markdown",
   "id": "8aca5c65",
   "metadata": {},
   "source": [
    " <div style=\"background-color: cyan; \">\n",
    "    <p style=\"font-size: 24px; font-weight: bold; color: blue;text-align: center;\">PART 1: WEBSCRAPPING</p>\n",
    "</div>"
   ]
  },
  {
   "cell_type": "markdown",
   "id": "7d42c3bc",
   "metadata": {},
   "source": [
    "## <font color='deeppink'> Dataset of text that has multiple categories (e.g. news articles labeled as sports, politics, entertainment, etc.). The dataset should have at least 1000 samples for each category.\n",
    "</font>\n",
    "\n",
    "#### <font color='blue'>This Dataset is scrap from Times of india website, and having 3 categories i.e. Business, sports, politics. Each category is having at least 1000 samples </font>\n"
   ]
  },
  {
   "cell_type": "markdown",
   "id": "395cdbba",
   "metadata": {},
   "source": [
    "## <font color='red'> Importing libraries</font>"
   ]
  },
  {
   "cell_type": "code",
   "execution_count": 172,
   "id": "9a1eeeb8",
   "metadata": {},
   "outputs": [],
   "source": [
    "import selenium\n",
    "import pandas as pd\n",
    "from selenium import webdriver\n",
    "import time\n",
    "from selenium.webdriver.common.by import By\n",
    "\n",
    "from bs4 import BeautifulSoup as bfs\n",
    "import requests"
   ]
  },
  {
   "cell_type": "markdown",
   "id": "28730e67",
   "metadata": {},
   "source": [
    "### <font color='red'>Connecting to the webdriver</font>"
   ]
  },
  {
   "cell_type": "code",
   "execution_count": 173,
   "id": "63ab1dde",
   "metadata": {
    "scrolled": true
   },
   "outputs": [
    {
     "name": "stderr",
     "output_type": "stream",
     "text": [
      "C:\\Users\\Deepshika\\AppData\\Local\\Temp\\ipykernel_10392\\681551397.py:2: DeprecationWarning: executable_path has been deprecated, please pass in a Service object\n",
      "  driver= webdriver.Chrome(r'C:\\Users\\Deepshika\\Downloads\\deep_chromedriver\\chromedriver.exe')\n"
     ]
    }
   ],
   "source": [
    "#first connect to the driver\n",
    "driver= webdriver.Chrome(r'C:\\Users\\Deepshika\\Downloads\\deep_chromedriver\\chromedriver.exe') \n"
   ]
  },
  {
   "cell_type": "markdown",
   "id": "3a7f20df",
   "metadata": {},
   "source": [
    "Business_url=[]\n",
    "\n",
    "wait = WebDriverWait(driver, 10)\n",
    "\n",
    "for page in range(0,30):\n",
    "    next_button = wait.until(EC.visibility_of_element_located((By.XPATH,'//*[@id=\"app\"]/div/div[5]/div/div[25]/button')))\n",
    "    actions = ActionChains(driver)\n",
    "    actions.move_to_element(next_button).click_and_hold().release().perform()\n",
    "    url=driver.find_elements(By.XPATH,'//*[@id=\"app\"]/div/div[5]/div/div[25]//a')\n",
    "    for i in url:\n",
    "        Business_url.append(i.get_attribute('href'))\n",
    "    \n",
    "    \n",
    "len(Business_url)    "
   ]
  },
  {
   "cell_type": "markdown",
   "id": "702832f9",
   "metadata": {},
   "source": [
    " <div style=\"background-color: pink; \">\n",
    "    <p style=\"font-size: 24px; font-weight: bold; color: red;\">BUSINESS</p>\n",
    "</div>"
   ]
  },
  {
   "cell_type": "markdown",
   "id": "40b1f6d5",
   "metadata": {},
   "source": [
    "### <font color='red'>Extracting data of coperate business</font>"
   ]
  },
  {
   "cell_type": "code",
   "execution_count": 73,
   "id": "dbf418f4",
   "metadata": {},
   "outputs": [],
   "source": [
    "#corporate business\n",
    "driver.get('https://timesofindia.indiatimes.com/business/corporate') "
   ]
  },
  {
   "cell_type": "code",
   "execution_count": 74,
   "id": "bc596429",
   "metadata": {},
   "outputs": [
    {
     "data": {
      "text/plain": [
       "306"
      ]
     },
     "execution_count": 74,
     "metadata": {},
     "output_type": "execute_result"
    }
   ],
   "source": [
    "Business_coperate_url=[]\n",
    "\n",
    "wait = WebDriverWait(driver, 10)\n",
    "\n",
    "for page in range(0,3):\n",
    "    next_button=driver.find_element(By.XPATH,'//*[@id=\"c_articlelist_stories_1\"]/ul[2]//a') #to get the next page\n",
    "    url=driver.find_elements(By.XPATH,'//*[@id=\"c_articlelist_stories_1\"]/ul[1]//span/a')\n",
    "    for i in url:\n",
    "        Business_coperate_url.append(i.get_attribute('href'))\n",
    "    \n",
    "    \n",
    "    \n",
    "len(Business_coperate_url) "
   ]
  },
  {
   "cell_type": "code",
   "execution_count": 193,
   "id": "a408c8f4",
   "metadata": {},
   "outputs": [
    {
     "name": "stdout",
     "output_type": "stream",
     "text": [
      "\n"
     ]
    }
   ],
   "source": [
    "data_coperate=pd.DataFrame({'URL': Business_coperate_url})\n",
    "data_coperate['Type']='Business'\n",
    "data_coperate['SubType']='Coperate-Business'"
   ]
  },
  {
   "cell_type": "markdown",
   "id": "a96c254d",
   "metadata": {},
   "source": [
    "### <font color='red'>Extracting data of economy business</font>"
   ]
  },
  {
   "cell_type": "code",
   "execution_count": 64,
   "id": "ef812528",
   "metadata": {},
   "outputs": [],
   "source": [
    "driver.get('https://timesofindia.indiatimes.com/business/economy')"
   ]
  },
  {
   "cell_type": "code",
   "execution_count": 66,
   "id": "d6d9c235",
   "metadata": {},
   "outputs": [
    {
     "data": {
      "text/plain": [
       "510"
      ]
     },
     "execution_count": 66,
     "metadata": {},
     "output_type": "execute_result"
    }
   ],
   "source": [
    "Business_eco_url=[]\n",
    "\n",
    "for page in range(0,5):\n",
    "    next_button=driver.find_element(By.XPATH,'//*[@id=\"c_articlelist_stories_1\"]/ul[2]//a') #to get the next page\n",
    "    url=driver.find_elements(By.XPATH,'//*[@id=\"c_articlelist_stories_1\"]/ul[1]//span/a')\n",
    "    for i in url:\n",
    "        Business_eco_url.append(i.get_attribute('href'))  \n",
    "len(Business_eco_url) "
   ]
  },
  {
   "cell_type": "code",
   "execution_count": 72,
   "id": "d2ceb415",
   "metadata": {},
   "outputs": [
    {
     "data": {
      "text/html": [
       "<div>\n",
       "<style scoped>\n",
       "    .dataframe tbody tr th:only-of-type {\n",
       "        vertical-align: middle;\n",
       "    }\n",
       "\n",
       "    .dataframe tbody tr th {\n",
       "        vertical-align: top;\n",
       "    }\n",
       "\n",
       "    .dataframe thead th {\n",
       "        text-align: right;\n",
       "    }\n",
       "</style>\n",
       "<table border=\"1\" class=\"dataframe\">\n",
       "  <thead>\n",
       "    <tr style=\"text-align: right;\">\n",
       "      <th></th>\n",
       "      <th>URL</th>\n",
       "      <th>Type</th>\n",
       "      <th>SubType</th>\n",
       "    </tr>\n",
       "  </thead>\n",
       "  <tbody>\n",
       "    <tr>\n",
       "      <th>0</th>\n",
       "      <td>https://timesofindia.indiatimes.com/business/i...</td>\n",
       "      <td>Business</td>\n",
       "      <td>Economy-Business</td>\n",
       "    </tr>\n",
       "    <tr>\n",
       "      <th>1</th>\n",
       "      <td>https://timesofindia.indiatimes.com/business/i...</td>\n",
       "      <td>Business</td>\n",
       "      <td>Economy-Business</td>\n",
       "    </tr>\n",
       "    <tr>\n",
       "      <th>2</th>\n",
       "      <td>https://timesofindia.indiatimes.com/business/i...</td>\n",
       "      <td>Business</td>\n",
       "      <td>Economy-Business</td>\n",
       "    </tr>\n",
       "    <tr>\n",
       "      <th>3</th>\n",
       "      <td>https://timesofindia.indiatimes.com/business/i...</td>\n",
       "      <td>Business</td>\n",
       "      <td>Economy-Business</td>\n",
       "    </tr>\n",
       "    <tr>\n",
       "      <th>4</th>\n",
       "      <td>https://timesofindia.indiatimes.com/business/i...</td>\n",
       "      <td>Business</td>\n",
       "      <td>Economy-Business</td>\n",
       "    </tr>\n",
       "    <tr>\n",
       "      <th>...</th>\n",
       "      <td>...</td>\n",
       "      <td>...</td>\n",
       "      <td>...</td>\n",
       "    </tr>\n",
       "    <tr>\n",
       "      <th>505</th>\n",
       "      <td>https://timesofindia.indiatimes.com/business/i...</td>\n",
       "      <td>Business</td>\n",
       "      <td>Economy-Business</td>\n",
       "    </tr>\n",
       "    <tr>\n",
       "      <th>506</th>\n",
       "      <td>https://timesofindia.indiatimes.com/business/i...</td>\n",
       "      <td>Business</td>\n",
       "      <td>Economy-Business</td>\n",
       "    </tr>\n",
       "    <tr>\n",
       "      <th>507</th>\n",
       "      <td>https://timesofindia.indiatimes.com/business/i...</td>\n",
       "      <td>Business</td>\n",
       "      <td>Economy-Business</td>\n",
       "    </tr>\n",
       "    <tr>\n",
       "      <th>508</th>\n",
       "      <td>https://timesofindia.indiatimes.com/business/i...</td>\n",
       "      <td>Business</td>\n",
       "      <td>Economy-Business</td>\n",
       "    </tr>\n",
       "    <tr>\n",
       "      <th>509</th>\n",
       "      <td>https://timesofindia.indiatimes.com/business/i...</td>\n",
       "      <td>Business</td>\n",
       "      <td>Economy-Business</td>\n",
       "    </tr>\n",
       "  </tbody>\n",
       "</table>\n",
       "<p>510 rows × 3 columns</p>\n",
       "</div>"
      ],
      "text/plain": [
       "                                                   URL      Type  \\\n",
       "0    https://timesofindia.indiatimes.com/business/i...  Business   \n",
       "1    https://timesofindia.indiatimes.com/business/i...  Business   \n",
       "2    https://timesofindia.indiatimes.com/business/i...  Business   \n",
       "3    https://timesofindia.indiatimes.com/business/i...  Business   \n",
       "4    https://timesofindia.indiatimes.com/business/i...  Business   \n",
       "..                                                 ...       ...   \n",
       "505  https://timesofindia.indiatimes.com/business/i...  Business   \n",
       "506  https://timesofindia.indiatimes.com/business/i...  Business   \n",
       "507  https://timesofindia.indiatimes.com/business/i...  Business   \n",
       "508  https://timesofindia.indiatimes.com/business/i...  Business   \n",
       "509  https://timesofindia.indiatimes.com/business/i...  Business   \n",
       "\n",
       "              SubType  \n",
       "0    Economy-Business  \n",
       "1    Economy-Business  \n",
       "2    Economy-Business  \n",
       "3    Economy-Business  \n",
       "4    Economy-Business  \n",
       "..                ...  \n",
       "505  Economy-Business  \n",
       "506  Economy-Business  \n",
       "507  Economy-Business  \n",
       "508  Economy-Business  \n",
       "509  Economy-Business  \n",
       "\n",
       "[510 rows x 3 columns]"
      ]
     },
     "execution_count": 72,
     "metadata": {},
     "output_type": "execute_result"
    }
   ],
   "source": [
    "data_eco=pd.DataFrame({'URL': Business_eco_url})\n",
    "data_eco['Type']='Business'\n",
    "data_eco['SubType']='Economy-Business'\n",
    "data_eco"
   ]
  },
  {
   "cell_type": "markdown",
   "id": "d2bfead7",
   "metadata": {},
   "source": [
    "### <font color='red'>Extracting data of real estate business</font>"
   ]
  },
  {
   "cell_type": "code",
   "execution_count": 76,
   "id": "f1806943",
   "metadata": {},
   "outputs": [
    {
     "data": {
      "text/plain": [
       "204"
      ]
     },
     "execution_count": 76,
     "metadata": {},
     "output_type": "execute_result"
    }
   ],
   "source": [
    "driver.get('https://timesofindia.indiatimes.com/business/real-estate')\n",
    "\n",
    "Business_real_url=[]\n",
    "\n",
    "for page in range(0,2):\n",
    "    next_button=driver.find_element(By.XPATH,'//*[@id=\"c_articlelist_stories_1\"]/ul[2]//a') #to get the next page\n",
    "    url=driver.find_elements(By.XPATH,'//*[@id=\"c_articlelist_stories_1\"]/ul[1]//span/a')\n",
    "    for i in url:\n",
    "        Business_real_url.append(i.get_attribute('href'))  \n",
    "    \n",
    "len(Business_real_url) \n"
   ]
  },
  {
   "cell_type": "markdown",
   "id": "0470245b",
   "metadata": {},
   "source": [
    "### <font color='red'>making dataframe of business</font>"
   ]
  },
  {
   "cell_type": "code",
   "execution_count": 79,
   "id": "bafd24ef",
   "metadata": {
    "scrolled": true
   },
   "outputs": [
    {
     "data": {
      "text/html": [
       "<div>\n",
       "<style scoped>\n",
       "    .dataframe tbody tr th:only-of-type {\n",
       "        vertical-align: middle;\n",
       "    }\n",
       "\n",
       "    .dataframe tbody tr th {\n",
       "        vertical-align: top;\n",
       "    }\n",
       "\n",
       "    .dataframe thead th {\n",
       "        text-align: right;\n",
       "    }\n",
       "</style>\n",
       "<table border=\"1\" class=\"dataframe\">\n",
       "  <thead>\n",
       "    <tr style=\"text-align: right;\">\n",
       "      <th></th>\n",
       "      <th>URL</th>\n",
       "      <th>Type</th>\n",
       "      <th>SubType</th>\n",
       "    </tr>\n",
       "  </thead>\n",
       "  <tbody>\n",
       "    <tr>\n",
       "      <th>0</th>\n",
       "      <td>https://timesofindia.indiatimes.com/business/i...</td>\n",
       "      <td>Business</td>\n",
       "      <td>RealEstate -Business</td>\n",
       "    </tr>\n",
       "    <tr>\n",
       "      <th>1</th>\n",
       "      <td>https://timesofindia.indiatimes.com/business/i...</td>\n",
       "      <td>Business</td>\n",
       "      <td>RealEstate -Business</td>\n",
       "    </tr>\n",
       "    <tr>\n",
       "      <th>2</th>\n",
       "      <td>https://timesofindia.indiatimes.com/business/i...</td>\n",
       "      <td>Business</td>\n",
       "      <td>RealEstate -Business</td>\n",
       "    </tr>\n",
       "    <tr>\n",
       "      <th>3</th>\n",
       "      <td>https://timesofindia.indiatimes.com/business/i...</td>\n",
       "      <td>Business</td>\n",
       "      <td>RealEstate -Business</td>\n",
       "    </tr>\n",
       "    <tr>\n",
       "      <th>4</th>\n",
       "      <td>https://timesofindia.indiatimes.com/business/i...</td>\n",
       "      <td>Business</td>\n",
       "      <td>RealEstate -Business</td>\n",
       "    </tr>\n",
       "    <tr>\n",
       "      <th>...</th>\n",
       "      <td>...</td>\n",
       "      <td>...</td>\n",
       "      <td>...</td>\n",
       "    </tr>\n",
       "    <tr>\n",
       "      <th>199</th>\n",
       "      <td>https://timesofindia.indiatimes.com/business/i...</td>\n",
       "      <td>Business</td>\n",
       "      <td>RealEstate -Business</td>\n",
       "    </tr>\n",
       "    <tr>\n",
       "      <th>200</th>\n",
       "      <td>https://timesofindia.indiatimes.com/business/i...</td>\n",
       "      <td>Business</td>\n",
       "      <td>RealEstate -Business</td>\n",
       "    </tr>\n",
       "    <tr>\n",
       "      <th>201</th>\n",
       "      <td>https://timesofindia.indiatimes.com/business/i...</td>\n",
       "      <td>Business</td>\n",
       "      <td>RealEstate -Business</td>\n",
       "    </tr>\n",
       "    <tr>\n",
       "      <th>202</th>\n",
       "      <td>https://timesofindia.indiatimes.com/business/i...</td>\n",
       "      <td>Business</td>\n",
       "      <td>RealEstate -Business</td>\n",
       "    </tr>\n",
       "    <tr>\n",
       "      <th>203</th>\n",
       "      <td>https://timesofindia.indiatimes.com/business/i...</td>\n",
       "      <td>Business</td>\n",
       "      <td>RealEstate -Business</td>\n",
       "    </tr>\n",
       "  </tbody>\n",
       "</table>\n",
       "<p>204 rows × 3 columns</p>\n",
       "</div>"
      ],
      "text/plain": [
       "                                                   URL      Type  \\\n",
       "0    https://timesofindia.indiatimes.com/business/i...  Business   \n",
       "1    https://timesofindia.indiatimes.com/business/i...  Business   \n",
       "2    https://timesofindia.indiatimes.com/business/i...  Business   \n",
       "3    https://timesofindia.indiatimes.com/business/i...  Business   \n",
       "4    https://timesofindia.indiatimes.com/business/i...  Business   \n",
       "..                                                 ...       ...   \n",
       "199  https://timesofindia.indiatimes.com/business/i...  Business   \n",
       "200  https://timesofindia.indiatimes.com/business/i...  Business   \n",
       "201  https://timesofindia.indiatimes.com/business/i...  Business   \n",
       "202  https://timesofindia.indiatimes.com/business/i...  Business   \n",
       "203  https://timesofindia.indiatimes.com/business/i...  Business   \n",
       "\n",
       "                  SubType  \n",
       "0    RealEstate -Business  \n",
       "1    RealEstate -Business  \n",
       "2    RealEstate -Business  \n",
       "3    RealEstate -Business  \n",
       "4    RealEstate -Business  \n",
       "..                    ...  \n",
       "199  RealEstate -Business  \n",
       "200  RealEstate -Business  \n",
       "201  RealEstate -Business  \n",
       "202  RealEstate -Business  \n",
       "203  RealEstate -Business  \n",
       "\n",
       "[204 rows x 3 columns]"
      ]
     },
     "execution_count": 79,
     "metadata": {},
     "output_type": "execute_result"
    }
   ],
   "source": [
    "data_real=pd.DataFrame({'URL': Business_real_url})\n",
    "data_real['Type']='Business'\n",
    "data_real['SubType']='RealEstate -Business'\n",
    "data_real"
   ]
  },
  {
   "cell_type": "markdown",
   "id": "b40c1634",
   "metadata": {},
   "source": [
    "### <font color='red'>combining business data in dataframe</font>"
   ]
  },
  {
   "cell_type": "code",
   "execution_count": 83,
   "id": "3038b544",
   "metadata": {
    "scrolled": true
   },
   "outputs": [
    {
     "data": {
      "text/html": [
       "<div>\n",
       "<style scoped>\n",
       "    .dataframe tbody tr th:only-of-type {\n",
       "        vertical-align: middle;\n",
       "    }\n",
       "\n",
       "    .dataframe tbody tr th {\n",
       "        vertical-align: top;\n",
       "    }\n",
       "\n",
       "    .dataframe thead th {\n",
       "        text-align: right;\n",
       "    }\n",
       "</style>\n",
       "<table border=\"1\" class=\"dataframe\">\n",
       "  <thead>\n",
       "    <tr style=\"text-align: right;\">\n",
       "      <th></th>\n",
       "      <th>URL</th>\n",
       "      <th>Type</th>\n",
       "      <th>SubType</th>\n",
       "    </tr>\n",
       "  </thead>\n",
       "  <tbody>\n",
       "    <tr>\n",
       "      <th>0</th>\n",
       "      <td>https://timesofindia.indiatimes.com/business/i...</td>\n",
       "      <td>Business</td>\n",
       "      <td>RealEstate -Business</td>\n",
       "    </tr>\n",
       "    <tr>\n",
       "      <th>1</th>\n",
       "      <td>https://timesofindia.indiatimes.com/business/i...</td>\n",
       "      <td>Business</td>\n",
       "      <td>RealEstate -Business</td>\n",
       "    </tr>\n",
       "    <tr>\n",
       "      <th>2</th>\n",
       "      <td>https://timesofindia.indiatimes.com/business/i...</td>\n",
       "      <td>Business</td>\n",
       "      <td>RealEstate -Business</td>\n",
       "    </tr>\n",
       "    <tr>\n",
       "      <th>3</th>\n",
       "      <td>https://timesofindia.indiatimes.com/business/i...</td>\n",
       "      <td>Business</td>\n",
       "      <td>RealEstate -Business</td>\n",
       "    </tr>\n",
       "    <tr>\n",
       "      <th>4</th>\n",
       "      <td>https://timesofindia.indiatimes.com/business/i...</td>\n",
       "      <td>Business</td>\n",
       "      <td>RealEstate -Business</td>\n",
       "    </tr>\n",
       "    <tr>\n",
       "      <th>...</th>\n",
       "      <td>...</td>\n",
       "      <td>...</td>\n",
       "      <td>...</td>\n",
       "    </tr>\n",
       "    <tr>\n",
       "      <th>1015</th>\n",
       "      <td>https://timesofindia.indiatimes.com/business/i...</td>\n",
       "      <td>Business</td>\n",
       "      <td>Coperate-Business</td>\n",
       "    </tr>\n",
       "    <tr>\n",
       "      <th>1016</th>\n",
       "      <td>https://timesofindia.indiatimes.com/business/i...</td>\n",
       "      <td>Business</td>\n",
       "      <td>Coperate-Business</td>\n",
       "    </tr>\n",
       "    <tr>\n",
       "      <th>1017</th>\n",
       "      <td>https://timesofindia.indiatimes.com/business/i...</td>\n",
       "      <td>Business</td>\n",
       "      <td>Coperate-Business</td>\n",
       "    </tr>\n",
       "    <tr>\n",
       "      <th>1018</th>\n",
       "      <td>https://timesofindia.indiatimes.com/business/i...</td>\n",
       "      <td>Business</td>\n",
       "      <td>Coperate-Business</td>\n",
       "    </tr>\n",
       "    <tr>\n",
       "      <th>1019</th>\n",
       "      <td>https://timesofindia.indiatimes.com/business/i...</td>\n",
       "      <td>Business</td>\n",
       "      <td>Coperate-Business</td>\n",
       "    </tr>\n",
       "  </tbody>\n",
       "</table>\n",
       "<p>1020 rows × 3 columns</p>\n",
       "</div>"
      ],
      "text/plain": [
       "                                                    URL      Type  \\\n",
       "0     https://timesofindia.indiatimes.com/business/i...  Business   \n",
       "1     https://timesofindia.indiatimes.com/business/i...  Business   \n",
       "2     https://timesofindia.indiatimes.com/business/i...  Business   \n",
       "3     https://timesofindia.indiatimes.com/business/i...  Business   \n",
       "4     https://timesofindia.indiatimes.com/business/i...  Business   \n",
       "...                                                 ...       ...   \n",
       "1015  https://timesofindia.indiatimes.com/business/i...  Business   \n",
       "1016  https://timesofindia.indiatimes.com/business/i...  Business   \n",
       "1017  https://timesofindia.indiatimes.com/business/i...  Business   \n",
       "1018  https://timesofindia.indiatimes.com/business/i...  Business   \n",
       "1019  https://timesofindia.indiatimes.com/business/i...  Business   \n",
       "\n",
       "                   SubType  \n",
       "0     RealEstate -Business  \n",
       "1     RealEstate -Business  \n",
       "2     RealEstate -Business  \n",
       "3     RealEstate -Business  \n",
       "4     RealEstate -Business  \n",
       "...                    ...  \n",
       "1015     Coperate-Business  \n",
       "1016     Coperate-Business  \n",
       "1017     Coperate-Business  \n",
       "1018     Coperate-Business  \n",
       "1019     Coperate-Business  \n",
       "\n",
       "[1020 rows x 3 columns]"
      ]
     },
     "execution_count": 83,
     "metadata": {},
     "output_type": "execute_result"
    }
   ],
   "source": [
    "\n",
    "data_business=pd.concat([data_real,data_eco,data_coperate], ignore_index=True)\n",
    "data_business"
   ]
  },
  {
   "cell_type": "markdown",
   "id": "04ed670f",
   "metadata": {},
   "source": [
    "### <font color='red'>Extracting the articles of each url and storing it in dataframe</font>\n"
   ]
  },
  {
   "cell_type": "code",
   "execution_count": 93,
   "id": "be89f594",
   "metadata": {},
   "outputs": [],
   "source": [
    "article=[]\n",
    "\n",
    "for i in data_business['URL']:\n",
    "    page= requests.get(i)\n",
    "    soup= bfs(page.content)\n",
    "    a = soup.find('div', {'class': '_s30J clearfix'}).text.strip()\n",
    "    article.append(a)\n"
   ]
  },
  {
   "cell_type": "code",
   "execution_count": 120,
   "id": "d83849be",
   "metadata": {},
   "outputs": [],
   "source": [
    "data_business['article']=article"
   ]
  },
  {
   "cell_type": "code",
   "execution_count": 121,
   "id": "f9669e4e",
   "metadata": {
    "scrolled": true
   },
   "outputs": [
    {
     "data": {
      "text/html": [
       "<div>\n",
       "<style scoped>\n",
       "    .dataframe tbody tr th:only-of-type {\n",
       "        vertical-align: middle;\n",
       "    }\n",
       "\n",
       "    .dataframe tbody tr th {\n",
       "        vertical-align: top;\n",
       "    }\n",
       "\n",
       "    .dataframe thead th {\n",
       "        text-align: right;\n",
       "    }\n",
       "</style>\n",
       "<table border=\"1\" class=\"dataframe\">\n",
       "  <thead>\n",
       "    <tr style=\"text-align: right;\">\n",
       "      <th></th>\n",
       "      <th>URL</th>\n",
       "      <th>Type</th>\n",
       "      <th>SubType</th>\n",
       "      <th>article</th>\n",
       "    </tr>\n",
       "  </thead>\n",
       "  <tbody>\n",
       "    <tr>\n",
       "      <th>0</th>\n",
       "      <td>https://timesofindia.indiatimes.com/business/i...</td>\n",
       "      <td>Business</td>\n",
       "      <td>RealEstate -Business</td>\n",
       "      <td>NEW DELHI: Institutional investment in real es...</td>\n",
       "    </tr>\n",
       "    <tr>\n",
       "      <th>1</th>\n",
       "      <td>https://timesofindia.indiatimes.com/business/i...</td>\n",
       "      <td>Business</td>\n",
       "      <td>RealEstate -Business</td>\n",
       "      <td>NEW DELHI: The RBI decision to keep repo rate ...</td>\n",
       "    </tr>\n",
       "    <tr>\n",
       "      <th>2</th>\n",
       "      <td>https://timesofindia.indiatimes.com/business/i...</td>\n",
       "      <td>Business</td>\n",
       "      <td>RealEstate -Business</td>\n",
       "      <td>Radha Dhir, CEO &amp; Country Head, India, JLLThe ...</td>\n",
       "    </tr>\n",
       "    <tr>\n",
       "      <th>3</th>\n",
       "      <td>https://timesofindia.indiatimes.com/business/i...</td>\n",
       "      <td>Business</td>\n",
       "      <td>RealEstate -Business</td>\n",
       "      <td>Happiness is most Luxurious possession - Heard...</td>\n",
       "    </tr>\n",
       "    <tr>\n",
       "      <th>4</th>\n",
       "      <td>https://timesofindia.indiatimes.com/business/i...</td>\n",
       "      <td>Business</td>\n",
       "      <td>RealEstate -Business</td>\n",
       "      <td>NEW DELHI: In a relief to REITs and InVITs, th...</td>\n",
       "    </tr>\n",
       "    <tr>\n",
       "      <th>...</th>\n",
       "      <td>...</td>\n",
       "      <td>...</td>\n",
       "      <td>...</td>\n",
       "      <td>...</td>\n",
       "    </tr>\n",
       "    <tr>\n",
       "      <th>1015</th>\n",
       "      <td>https://timesofindia.indiatimes.com/business/i...</td>\n",
       "      <td>Business</td>\n",
       "      <td>Coperate-Business</td>\n",
       "      <td>WASHINGTON: Thousands of Indian IT professiona...</td>\n",
       "    </tr>\n",
       "    <tr>\n",
       "      <th>1016</th>\n",
       "      <td>https://timesofindia.indiatimes.com/business/i...</td>\n",
       "      <td>Business</td>\n",
       "      <td>Coperate-Business</td>\n",
       "      <td>NEW DELHI: Capital markets regulator Sebi has ...</td>\n",
       "    </tr>\n",
       "    <tr>\n",
       "      <th>1017</th>\n",
       "      <td>https://timesofindia.indiatimes.com/business/i...</td>\n",
       "      <td>Business</td>\n",
       "      <td>Coperate-Business</td>\n",
       "      <td>NEW DELHI: Infosys Ltd. is preparing to accele...</td>\n",
       "    </tr>\n",
       "    <tr>\n",
       "      <th>1018</th>\n",
       "      <td>https://timesofindia.indiatimes.com/business/i...</td>\n",
       "      <td>Business</td>\n",
       "      <td>Coperate-Business</td>\n",
       "      <td>MUMBAI: Adani Enterprises, which is launching ...</td>\n",
       "    </tr>\n",
       "    <tr>\n",
       "      <th>1019</th>\n",
       "      <td>https://timesofindia.indiatimes.com/business/i...</td>\n",
       "      <td>Business</td>\n",
       "      <td>Coperate-Business</td>\n",
       "      <td>NEW DELHI: The Supreme Court on Thursday rejec...</td>\n",
       "    </tr>\n",
       "  </tbody>\n",
       "</table>\n",
       "<p>1020 rows × 4 columns</p>\n",
       "</div>"
      ],
      "text/plain": [
       "                                                    URL      Type  \\\n",
       "0     https://timesofindia.indiatimes.com/business/i...  Business   \n",
       "1     https://timesofindia.indiatimes.com/business/i...  Business   \n",
       "2     https://timesofindia.indiatimes.com/business/i...  Business   \n",
       "3     https://timesofindia.indiatimes.com/business/i...  Business   \n",
       "4     https://timesofindia.indiatimes.com/business/i...  Business   \n",
       "...                                                 ...       ...   \n",
       "1015  https://timesofindia.indiatimes.com/business/i...  Business   \n",
       "1016  https://timesofindia.indiatimes.com/business/i...  Business   \n",
       "1017  https://timesofindia.indiatimes.com/business/i...  Business   \n",
       "1018  https://timesofindia.indiatimes.com/business/i...  Business   \n",
       "1019  https://timesofindia.indiatimes.com/business/i...  Business   \n",
       "\n",
       "                   SubType                                            article  \n",
       "0     RealEstate -Business  NEW DELHI: Institutional investment in real es...  \n",
       "1     RealEstate -Business  NEW DELHI: The RBI decision to keep repo rate ...  \n",
       "2     RealEstate -Business  Radha Dhir, CEO & Country Head, India, JLLThe ...  \n",
       "3     RealEstate -Business  Happiness is most Luxurious possession - Heard...  \n",
       "4     RealEstate -Business  NEW DELHI: In a relief to REITs and InVITs, th...  \n",
       "...                    ...                                                ...  \n",
       "1015     Coperate-Business  WASHINGTON: Thousands of Indian IT professiona...  \n",
       "1016     Coperate-Business  NEW DELHI: Capital markets regulator Sebi has ...  \n",
       "1017     Coperate-Business  NEW DELHI: Infosys Ltd. is preparing to accele...  \n",
       "1018     Coperate-Business  MUMBAI: Adani Enterprises, which is launching ...  \n",
       "1019     Coperate-Business  NEW DELHI: The Supreme Court on Thursday rejec...  \n",
       "\n",
       "[1020 rows x 4 columns]"
      ]
     },
     "execution_count": 121,
     "metadata": {},
     "output_type": "execute_result"
    }
   ],
   "source": [
    "data_business"
   ]
  },
  {
   "cell_type": "markdown",
   "id": "92de171c",
   "metadata": {},
   "source": [
    " <div style=\"background-color: pink; \">\n",
    "    <p style=\"font-size: 24px; font-weight: bold; color: red;\">SPORTS</p>\n",
    "</div>"
   ]
  },
  {
   "cell_type": "markdown",
   "id": "e040ead1",
   "metadata": {},
   "source": [
    "### <font color='red'>Extracting data of cricket sport</font>"
   ]
  },
  {
   "cell_type": "code",
   "execution_count": 113,
   "id": "926b8916",
   "metadata": {},
   "outputs": [
    {
     "data": {
      "text/plain": [
       "390"
      ]
     },
     "execution_count": 113,
     "metadata": {},
     "output_type": "execute_result"
    }
   ],
   "source": [
    "driver.get('https://timesofindia.indiatimes.com/sports/cricket/ipl') \n",
    "sport_cri=[]\n",
    "\n",
    "for page in range(0,6):\n",
    "    next_button=driver.find_element(By.XPATH,'//*[@id=\"c_sport_wdt_1\"]/div/div[1]/ul[2]//a') #to get the next page\n",
    "    url=driver.find_elements(By.XPATH,'//*[@id=\"c_sport_wdt_1\"]/div/div[1]/ul[1]//span/a')\n",
    "    for i in url:\n",
    "        sport_cri.append(i.get_attribute('href'))  \n",
    "    \n",
    "len(sport_cri) \n"
   ]
  },
  {
   "cell_type": "code",
   "execution_count": 114,
   "id": "671b0e4d",
   "metadata": {},
   "outputs": [],
   "source": [
    "sport_cri=pd.DataFrame({'URL': sport_cri})\n",
    "sport_cri['Type']='Sports'\n",
    "sport_cri['SubType']='Cricket-Sports'\n"
   ]
  },
  {
   "cell_type": "markdown",
   "id": "d92534c7",
   "metadata": {},
   "source": [
    "### <font color='red'>Extracting data of football sport</font>"
   ]
  },
  {
   "cell_type": "code",
   "execution_count": 99,
   "id": "69b23d37",
   "metadata": {},
   "outputs": [
    {
     "data": {
      "text/plain": [
       "56"
      ]
     },
     "execution_count": 99,
     "metadata": {},
     "output_type": "execute_result"
    }
   ],
   "source": [
    "driver.get('https://timesofindia.indiatimes.com/sports/football') \n",
    "sport_foot=[]\n",
    "\n",
    "url=driver.find_elements(By.XPATH,'//*[@id=\"c_sport_wdt_1\"]//span/a')\n",
    "for i in url:\n",
    "    sport_foot.append(i.get_attribute('href'))  \n",
    "len(sport_foot)"
   ]
  },
  {
   "cell_type": "code",
   "execution_count": 104,
   "id": "44fac4c1",
   "metadata": {},
   "outputs": [
    {
     "name": "stdout",
     "output_type": "stream",
     "text": [
      "\n"
     ]
    }
   ],
   "source": [
    "sport_foot=pd.DataFrame({'URL': sport_foot})\n",
    "sport_foot['Type']='Sports'\n",
    "sport_foot['SubType']='Football-Sports'"
   ]
  },
  {
   "cell_type": "markdown",
   "id": "95b660b8",
   "metadata": {},
   "source": [
    "### <font color='red'>Extracting data of tennis sport</font>"
   ]
  },
  {
   "cell_type": "code",
   "execution_count": 106,
   "id": "cb44ad33",
   "metadata": {},
   "outputs": [
    {
     "data": {
      "text/plain": [
       "325"
      ]
     },
     "execution_count": 106,
     "metadata": {},
     "output_type": "execute_result"
    }
   ],
   "source": [
    "driver.get('https://timesofindia.indiatimes.com/sports/cricket/ipl') \n",
    "sport_tennis=[]\n",
    "\n",
    "for page in range(0,5):\n",
    "    next_button=driver.find_element(By.XPATH,'//*[@id=\"c_sport_wdt_1\"]/div/div[1]/ul[2]//a')\n",
    "    url=driver.find_elements(By.XPATH,'//*[@id=\"c_sport_wdt_1\"]/div/div[1]//span/a')\n",
    "    for i in url:\n",
    "        sport_tennis.append(i.get_attribute('href'))\n",
    "    \n",
    "    \n",
    "    \n",
    "len(sport_tennis) \n"
   ]
  },
  {
   "cell_type": "code",
   "execution_count": 108,
   "id": "1670040b",
   "metadata": {},
   "outputs": [],
   "source": [
    "sport_tennis=pd.DataFrame({'URL': sport_tennis})\n",
    "sport_tennis['Type']='Sports'\n",
    "sport_tennis['SubType']='Tennis-Sports'"
   ]
  },
  {
   "cell_type": "markdown",
   "id": "9aef31ae",
   "metadata": {},
   "source": [
    "### <font color='red'>Extracting data of hockey sport</font>"
   ]
  },
  {
   "cell_type": "code",
   "execution_count": 110,
   "id": "f79f4718",
   "metadata": {},
   "outputs": [
    {
     "data": {
      "text/plain": [
       "84"
      ]
     },
     "execution_count": 110,
     "metadata": {},
     "output_type": "execute_result"
    }
   ],
   "source": [
    "    \n",
    "driver.get('https://timesofindia.indiatimes.com/sports/hockey/hockey-world-cup') \n",
    "sport_hockey=[]\n",
    "\n",
    "for page in range(0,2):\n",
    "    next_button=driver.find_element(By.XPATH,'//*[@id=\"c_sport_wdt_1\"]/div/div[1]/ul[2]//a') #to get the next page\n",
    "    url=driver.find_elements(By.XPATH,'//*[@id=\"c_sport_wdt_1\"]/div/div[1]/ul[1]//span/a')\n",
    "    for i in url:\n",
    "        sport_hockey.append(i.get_attribute('href'))\n",
    "\n",
    "len(sport_hockey) \n"
   ]
  },
  {
   "cell_type": "code",
   "execution_count": 111,
   "id": "9f559414",
   "metadata": {},
   "outputs": [],
   "source": [
    "sport_hockey=pd.DataFrame({'URL': sport_hockey})\n",
    "sport_hockey['Type']='Sports'\n",
    "sport_hockey['SubType']='Hockey-Sports'"
   ]
  },
  {
   "cell_type": "markdown",
   "id": "b1781718",
   "metadata": {},
   "source": [
    "### <font color='red'>Extracting data of wwe sport</font>"
   ]
  },
  {
   "cell_type": "code",
   "execution_count": 116,
   "id": "1406b803",
   "metadata": {},
   "outputs": [
    {
     "data": {
      "text/plain": [
       "252"
      ]
     },
     "execution_count": 116,
     "metadata": {},
     "output_type": "execute_result"
    }
   ],
   "source": [
    "    \n",
    "driver.get('https://timesofindia.indiatimes.com/sports/wwe') \n",
    "sport_wwe=[]\n",
    "\n",
    "for page in range(0,6):\n",
    "    next_button=driver.find_element(By.XPATH,'//*[@id=\"c_sport_wdt_1\"]/div/div[1]/ul[2]//a') \n",
    "    url=driver.find_elements(By.XPATH,'//*[@id=\"c_sport_wdt_1\"]/div/div[1]//span/a')\n",
    "    for i in url:\n",
    "        sport_wwe.append(i.get_attribute('href'))\n",
    "    \n",
    "len(sport_wwe) "
   ]
  },
  {
   "cell_type": "code",
   "execution_count": 118,
   "id": "be7137b8",
   "metadata": {},
   "outputs": [],
   "source": [
    "sport_wwe=pd.DataFrame({'URL': sport_wwe})\n",
    "sport_wwe['Type']='Sports'\n",
    "sport_wwe['SubType']='wwe-Sports'"
   ]
  },
  {
   "cell_type": "markdown",
   "id": "4037b0c6",
   "metadata": {},
   "source": [
    "### <font color='red'>Extracting data of golf sport</font>"
   ]
  },
  {
   "cell_type": "code",
   "execution_count": 138,
   "id": "69589f21",
   "metadata": {},
   "outputs": [
    {
     "data": {
      "text/plain": [
       "84"
      ]
     },
     "execution_count": 138,
     "metadata": {},
     "output_type": "execute_result"
    }
   ],
   "source": [
    "driver.get('https://timesofindia.indiatimes.com/sports/golf') \n",
    "sport_golf=[]\n",
    "\n",
    "for page in range(0,2):\n",
    "    next_button=driver.find_element(By.XPATH,'//*[@id=\"c_sport_wdt_1\"]/div/div[1]/ul[2]//a') #to get the next page\n",
    "    url=driver.find_elements(By.XPATH,'//*[@id=\"c_sport_wdt_1\"]/div/div[1]//span/a')\n",
    "    for i in url:\n",
    "        sport_golf.append(i.get_attribute('href'))  \n",
    "len(sport_golf) "
   ]
  },
  {
   "cell_type": "code",
   "execution_count": 144,
   "id": "ef26faae",
   "metadata": {},
   "outputs": [],
   "source": [
    "sport_golf=pd.DataFrame({'URL': sport_golf})\n",
    "sport_golf['Type']='Sports'\n",
    "sport_golf['SubType']='golf-Sports'"
   ]
  },
  {
   "cell_type": "markdown",
   "id": "b3048a37",
   "metadata": {},
   "source": [
    "### <font color='red'>Extracting data of wresting sport</font>"
   ]
  },
  {
   "cell_type": "code",
   "execution_count": 141,
   "id": "11123abc",
   "metadata": {},
   "outputs": [
    {
     "data": {
      "text/plain": [
       "84"
      ]
     },
     "execution_count": 141,
     "metadata": {},
     "output_type": "execute_result"
    }
   ],
   "source": [
    "driver.get('https://timesofindia.indiatimes.com/sports/more-sports/wrestling') \n",
    "sport_wrest=[]\n",
    "\n",
    "for page in range(0,2):\n",
    "    next_button=driver.find_element(By.XPATH,'//*[@id=\"c_sport_wdt_1\"]/div/div[1]/ul[2]//a') #to get the next page\n",
    "    url=driver.find_elements(By.XPATH,'//*[@id=\"c_sport_wdt_1\"]/div/div[1]//span/a')\n",
    "    for i in url:\n",
    "        sport_wrest.append(i.get_attribute('href'))\n",
    "    \n",
    "len(sport_wrest)"
   ]
  },
  {
   "cell_type": "code",
   "execution_count": 142,
   "id": "d3371238",
   "metadata": {},
   "outputs": [],
   "source": [
    "sport_wrest=pd.DataFrame({'URL': sport_wrest})\n",
    "sport_wrest['Type']='Sports'\n",
    "sport_wrest['SubType']='wresting-Sports'"
   ]
  },
  {
   "cell_type": "markdown",
   "id": "f7e78610",
   "metadata": {},
   "source": [
    "### <font color='red'>Extracting data of badminton sport</font>"
   ]
  },
  {
   "cell_type": "code",
   "execution_count": 201,
   "id": "6f24df7b",
   "metadata": {},
   "outputs": [
    {
     "data": {
      "text/plain": [
       "84"
      ]
     },
     "execution_count": 201,
     "metadata": {},
     "output_type": "execute_result"
    }
   ],
   "source": [
    "driver.get('https://timesofindia.indiatimes.com/sports/more-sports/wrestling') \n",
    "sport_bad=[]\n",
    "\n",
    "for page in range(0,2):\n",
    "    next_button=driver.find_element(By.XPATH,'//*[@id=\"c_sport_wdt_1\"]/div/div[1]/ul[2]//a') #to get the next page\n",
    "    url=driver.find_elements(By.XPATH,'//*[@id=\"c_sport_wdt_1\"]/div/div[1]//span/a')\n",
    "    for i in url:\n",
    "        sport_bad.append(i.get_attribute('href'))\n",
    "    \n",
    "len(sport_bad)"
   ]
  },
  {
   "cell_type": "code",
   "execution_count": 202,
   "id": "15c6aa27",
   "metadata": {},
   "outputs": [],
   "source": [
    "sport_bad=pd.DataFrame({'URL': sport_bad})\n",
    "sport_bad['Type']='Sports'\n",
    "sport_bad['SubType']='badminton-Sports'"
   ]
  },
  {
   "cell_type": "markdown",
   "id": "03c045a5",
   "metadata": {},
   "source": [
    "### <font color='red'>combining sport data in dataframe</font>"
   ]
  },
  {
   "cell_type": "code",
   "execution_count": 203,
   "id": "e5bcde02",
   "metadata": {},
   "outputs": [
    {
     "data": {
      "text/html": [
       "<div>\n",
       "<style scoped>\n",
       "    .dataframe tbody tr th:only-of-type {\n",
       "        vertical-align: middle;\n",
       "    }\n",
       "\n",
       "    .dataframe tbody tr th {\n",
       "        vertical-align: top;\n",
       "    }\n",
       "\n",
       "    .dataframe thead th {\n",
       "        text-align: right;\n",
       "    }\n",
       "</style>\n",
       "<table border=\"1\" class=\"dataframe\">\n",
       "  <thead>\n",
       "    <tr style=\"text-align: right;\">\n",
       "      <th></th>\n",
       "      <th>URL</th>\n",
       "      <th>Type</th>\n",
       "      <th>SubType</th>\n",
       "    </tr>\n",
       "  </thead>\n",
       "  <tbody>\n",
       "    <tr>\n",
       "      <th>0</th>\n",
       "      <td>https://timesofindia.indiatimes.com/sports/wwe...</td>\n",
       "      <td>Sports</td>\n",
       "      <td>wwe-Sports</td>\n",
       "    </tr>\n",
       "    <tr>\n",
       "      <th>1</th>\n",
       "      <td>https://timesofindia.indiatimes.com/sports/wwe...</td>\n",
       "      <td>Sports</td>\n",
       "      <td>wwe-Sports</td>\n",
       "    </tr>\n",
       "    <tr>\n",
       "      <th>2</th>\n",
       "      <td>https://timesofindia.indiatimes.com/sports/wwe...</td>\n",
       "      <td>Sports</td>\n",
       "      <td>wwe-Sports</td>\n",
       "    </tr>\n",
       "    <tr>\n",
       "      <th>3</th>\n",
       "      <td>https://timesofindia.indiatimes.com/sports/wwe...</td>\n",
       "      <td>Sports</td>\n",
       "      <td>wwe-Sports</td>\n",
       "    </tr>\n",
       "    <tr>\n",
       "      <th>4</th>\n",
       "      <td>https://timesofindia.indiatimes.com/sports/wwe...</td>\n",
       "      <td>Sports</td>\n",
       "      <td>wwe-Sports</td>\n",
       "    </tr>\n",
       "    <tr>\n",
       "      <th>...</th>\n",
       "      <td>...</td>\n",
       "      <td>...</td>\n",
       "      <td>...</td>\n",
       "    </tr>\n",
       "    <tr>\n",
       "      <th>1354</th>\n",
       "      <td>https://timesofindia.indiatimes.com/sports/mor...</td>\n",
       "      <td>Sports</td>\n",
       "      <td>badminton-Sports</td>\n",
       "    </tr>\n",
       "    <tr>\n",
       "      <th>1355</th>\n",
       "      <td>https://timesofindia.indiatimes.com/sports/mor...</td>\n",
       "      <td>Sports</td>\n",
       "      <td>badminton-Sports</td>\n",
       "    </tr>\n",
       "    <tr>\n",
       "      <th>1356</th>\n",
       "      <td>https://timesofindia.indiatimes.com/sports/mor...</td>\n",
       "      <td>Sports</td>\n",
       "      <td>badminton-Sports</td>\n",
       "    </tr>\n",
       "    <tr>\n",
       "      <th>1357</th>\n",
       "      <td>https://timesofindia.indiatimes.com/sports/mor...</td>\n",
       "      <td>Sports</td>\n",
       "      <td>badminton-Sports</td>\n",
       "    </tr>\n",
       "    <tr>\n",
       "      <th>1358</th>\n",
       "      <td>https://timesofindia.indiatimes.com/sports/mor...</td>\n",
       "      <td>Sports</td>\n",
       "      <td>badminton-Sports</td>\n",
       "    </tr>\n",
       "  </tbody>\n",
       "</table>\n",
       "<p>1359 rows × 3 columns</p>\n",
       "</div>"
      ],
      "text/plain": [
       "                                                    URL    Type  \\\n",
       "0     https://timesofindia.indiatimes.com/sports/wwe...  Sports   \n",
       "1     https://timesofindia.indiatimes.com/sports/wwe...  Sports   \n",
       "2     https://timesofindia.indiatimes.com/sports/wwe...  Sports   \n",
       "3     https://timesofindia.indiatimes.com/sports/wwe...  Sports   \n",
       "4     https://timesofindia.indiatimes.com/sports/wwe...  Sports   \n",
       "...                                                 ...     ...   \n",
       "1354  https://timesofindia.indiatimes.com/sports/mor...  Sports   \n",
       "1355  https://timesofindia.indiatimes.com/sports/mor...  Sports   \n",
       "1356  https://timesofindia.indiatimes.com/sports/mor...  Sports   \n",
       "1357  https://timesofindia.indiatimes.com/sports/mor...  Sports   \n",
       "1358  https://timesofindia.indiatimes.com/sports/mor...  Sports   \n",
       "\n",
       "               SubType  \n",
       "0           wwe-Sports  \n",
       "1           wwe-Sports  \n",
       "2           wwe-Sports  \n",
       "3           wwe-Sports  \n",
       "4           wwe-Sports  \n",
       "...                ...  \n",
       "1354  badminton-Sports  \n",
       "1355  badminton-Sports  \n",
       "1356  badminton-Sports  \n",
       "1357  badminton-Sports  \n",
       "1358  badminton-Sports  \n",
       "\n",
       "[1359 rows x 3 columns]"
      ]
     },
     "execution_count": 203,
     "metadata": {},
     "output_type": "execute_result"
    }
   ],
   "source": [
    "data_sport=pd.concat([sport_wwe,sport_hockey,sport_tennis,sport_foot,sport_cri,sport_golf,sport_wrest,sport_bad], ignore_index=True)\n",
    "data_sport"
   ]
  },
  {
   "cell_type": "markdown",
   "id": "affabda9",
   "metadata": {},
   "source": [
    "### <font color='red'>Extracting the articles of each url and storing it in dataframe</font>\n"
   ]
  },
  {
   "cell_type": "code",
   "execution_count": null,
   "id": "d62714e2",
   "metadata": {},
   "outputs": [],
   "source": [
    "article = []\n",
    "\n",
    "for i in data_sport['URL']:\n",
    "    page = requests.get(i)\n",
    "    soup = bfs(page.content) \n",
    "    try:\n",
    "        a = soup.find('div', {'class': '_s30J clearfix'}).text\n",
    "    except AttributeError:\n",
    "        a = 'NOT FOUND' \n",
    "    article.append(a)\n"
   ]
  },
  {
   "cell_type": "code",
   "execution_count": 149,
   "id": "c8c395f2",
   "metadata": {},
   "outputs": [],
   "source": [
    "data_sport['article']=article"
   ]
  },
  {
   "cell_type": "code",
   "execution_count": 150,
   "id": "791423b0",
   "metadata": {},
   "outputs": [
    {
     "data": {
      "text/html": [
       "<div>\n",
       "<style scoped>\n",
       "    .dataframe tbody tr th:only-of-type {\n",
       "        vertical-align: middle;\n",
       "    }\n",
       "\n",
       "    .dataframe tbody tr th {\n",
       "        vertical-align: top;\n",
       "    }\n",
       "\n",
       "    .dataframe thead th {\n",
       "        text-align: right;\n",
       "    }\n",
       "</style>\n",
       "<table border=\"1\" class=\"dataframe\">\n",
       "  <thead>\n",
       "    <tr style=\"text-align: right;\">\n",
       "      <th></th>\n",
       "      <th>URL</th>\n",
       "      <th>Type</th>\n",
       "      <th>SubType</th>\n",
       "      <th>article</th>\n",
       "    </tr>\n",
       "  </thead>\n",
       "  <tbody>\n",
       "    <tr>\n",
       "      <th>259</th>\n",
       "      <td>https://timesofindia.indiatimes.com/sports/hoc...</td>\n",
       "      <td>Sports</td>\n",
       "      <td>Hockey-Sports</td>\n",
       "      <td>NOT FOUND</td>\n",
       "    </tr>\n",
       "    <tr>\n",
       "      <th>288</th>\n",
       "      <td>https://timesofindia.indiatimes.com/sports/hoc...</td>\n",
       "      <td>Sports</td>\n",
       "      <td>Hockey-Sports</td>\n",
       "      <td>NOT FOUND</td>\n",
       "    </tr>\n",
       "    <tr>\n",
       "      <th>290</th>\n",
       "      <td>https://timesofindia.indiatimes.com/sports/hoc...</td>\n",
       "      <td>Sports</td>\n",
       "      <td>Hockey-Sports</td>\n",
       "      <td>NOT FOUND</td>\n",
       "    </tr>\n",
       "    <tr>\n",
       "      <th>301</th>\n",
       "      <td>https://timesofindia.indiatimes.com/sports/hoc...</td>\n",
       "      <td>Sports</td>\n",
       "      <td>Hockey-Sports</td>\n",
       "      <td>NOT FOUND</td>\n",
       "    </tr>\n",
       "    <tr>\n",
       "      <th>330</th>\n",
       "      <td>https://timesofindia.indiatimes.com/sports/hoc...</td>\n",
       "      <td>Sports</td>\n",
       "      <td>Hockey-Sports</td>\n",
       "      <td>NOT FOUND</td>\n",
       "    </tr>\n",
       "    <tr>\n",
       "      <th>...</th>\n",
       "      <td>...</td>\n",
       "      <td>...</td>\n",
       "      <td>...</td>\n",
       "      <td>...</td>\n",
       "    </tr>\n",
       "    <tr>\n",
       "      <th>1067</th>\n",
       "      <td>https://timesofindia.indiatimes.com/sports/cri...</td>\n",
       "      <td>Sports</td>\n",
       "      <td>Cricket-Sports</td>\n",
       "      <td>NOT FOUND</td>\n",
       "    </tr>\n",
       "    <tr>\n",
       "      <th>1068</th>\n",
       "      <td>https://timesofindia.indiatimes.com/sports/cri...</td>\n",
       "      <td>Sports</td>\n",
       "      <td>Cricket-Sports</td>\n",
       "      <td>NOT FOUND</td>\n",
       "    </tr>\n",
       "    <tr>\n",
       "      <th>1069</th>\n",
       "      <td>https://timesofindia.indiatimes.com/sports/cri...</td>\n",
       "      <td>Sports</td>\n",
       "      <td>Cricket-Sports</td>\n",
       "      <td>NOT FOUND</td>\n",
       "    </tr>\n",
       "    <tr>\n",
       "      <th>1070</th>\n",
       "      <td>https://timesofindia.indiatimes.com/sports/cri...</td>\n",
       "      <td>Sports</td>\n",
       "      <td>Cricket-Sports</td>\n",
       "      <td>NOT FOUND</td>\n",
       "    </tr>\n",
       "    <tr>\n",
       "      <th>1071</th>\n",
       "      <td>https://timesofindia.indiatimes.com/sports/cri...</td>\n",
       "      <td>Sports</td>\n",
       "      <td>Cricket-Sports</td>\n",
       "      <td>NOT FOUND</td>\n",
       "    </tr>\n",
       "  </tbody>\n",
       "</table>\n",
       "<p>236 rows × 4 columns</p>\n",
       "</div>"
      ],
      "text/plain": [
       "                                                    URL    Type  \\\n",
       "259   https://timesofindia.indiatimes.com/sports/hoc...  Sports   \n",
       "288   https://timesofindia.indiatimes.com/sports/hoc...  Sports   \n",
       "290   https://timesofindia.indiatimes.com/sports/hoc...  Sports   \n",
       "301   https://timesofindia.indiatimes.com/sports/hoc...  Sports   \n",
       "330   https://timesofindia.indiatimes.com/sports/hoc...  Sports   \n",
       "...                                                 ...     ...   \n",
       "1067  https://timesofindia.indiatimes.com/sports/cri...  Sports   \n",
       "1068  https://timesofindia.indiatimes.com/sports/cri...  Sports   \n",
       "1069  https://timesofindia.indiatimes.com/sports/cri...  Sports   \n",
       "1070  https://timesofindia.indiatimes.com/sports/cri...  Sports   \n",
       "1071  https://timesofindia.indiatimes.com/sports/cri...  Sports   \n",
       "\n",
       "             SubType    article  \n",
       "259    Hockey-Sports  NOT FOUND  \n",
       "288    Hockey-Sports  NOT FOUND  \n",
       "290    Hockey-Sports  NOT FOUND  \n",
       "301    Hockey-Sports  NOT FOUND  \n",
       "330    Hockey-Sports  NOT FOUND  \n",
       "...              ...        ...  \n",
       "1067  Cricket-Sports  NOT FOUND  \n",
       "1068  Cricket-Sports  NOT FOUND  \n",
       "1069  Cricket-Sports  NOT FOUND  \n",
       "1070  Cricket-Sports  NOT FOUND  \n",
       "1071  Cricket-Sports  NOT FOUND  \n",
       "\n",
       "[236 rows x 4 columns]"
      ]
     },
     "execution_count": 150,
     "metadata": {},
     "output_type": "execute_result"
    }
   ],
   "source": [
    "data_sport[data_sport['article'] == 'NOT FOUND']"
   ]
  },
  {
   "cell_type": "code",
   "execution_count": 151,
   "id": "5222cb4f",
   "metadata": {},
   "outputs": [],
   "source": [
    "data_sport.drop(data_sport[data_sport['article'] == 'NOT FOUND'].index, inplace=True)\n"
   ]
  },
  {
   "cell_type": "code",
   "execution_count": 152,
   "id": "23f3dca3",
   "metadata": {
    "scrolled": true
   },
   "outputs": [
    {
     "data": {
      "text/html": [
       "<div>\n",
       "<style scoped>\n",
       "    .dataframe tbody tr th:only-of-type {\n",
       "        vertical-align: middle;\n",
       "    }\n",
       "\n",
       "    .dataframe tbody tr th {\n",
       "        vertical-align: top;\n",
       "    }\n",
       "\n",
       "    .dataframe thead th {\n",
       "        text-align: right;\n",
       "    }\n",
       "</style>\n",
       "<table border=\"1\" class=\"dataframe\">\n",
       "  <thead>\n",
       "    <tr style=\"text-align: right;\">\n",
       "      <th></th>\n",
       "      <th>URL</th>\n",
       "      <th>Type</th>\n",
       "      <th>SubType</th>\n",
       "      <th>article</th>\n",
       "    </tr>\n",
       "  </thead>\n",
       "  <tbody>\n",
       "    <tr>\n",
       "      <th>0</th>\n",
       "      <td>https://timesofindia.indiatimes.com/sports/wwe...</td>\n",
       "      <td>Sports</td>\n",
       "      <td>wwe-Sports</td>\n",
       "      <td>LOS ANGELES: World Wrestling Entertainment apo...</td>\n",
       "    </tr>\n",
       "    <tr>\n",
       "      <th>1</th>\n",
       "      <td>https://timesofindia.indiatimes.com/sports/wwe...</td>\n",
       "      <td>Sports</td>\n",
       "      <td>wwe-Sports</td>\n",
       "      <td>NEW DELHI: In a major announcement on Monday, ...</td>\n",
       "    </tr>\n",
       "    <tr>\n",
       "      <th>2</th>\n",
       "      <td>https://timesofindia.indiatimes.com/sports/wwe...</td>\n",
       "      <td>Sports</td>\n",
       "      <td>wwe-Sports</td>\n",
       "      <td>WASHINGTON: WWE, an organisation that is alrea...</td>\n",
       "    </tr>\n",
       "    <tr>\n",
       "      <th>3</th>\n",
       "      <td>https://timesofindia.indiatimes.com/sports/wwe...</td>\n",
       "      <td>Sports</td>\n",
       "      <td>wwe-Sports</td>\n",
       "      <td>NEW DELHI: In the aftermath of Stephanie McMah...</td>\n",
       "    </tr>\n",
       "    <tr>\n",
       "      <th>4</th>\n",
       "      <td>https://timesofindia.indiatimes.com/sports/wwe...</td>\n",
       "      <td>Sports</td>\n",
       "      <td>wwe-Sports</td>\n",
       "      <td>NEW DELHI: It's confirmed. Former CEO Vince Mc...</td>\n",
       "    </tr>\n",
       "    <tr>\n",
       "      <th>...</th>\n",
       "      <td>...</td>\n",
       "      <td>...</td>\n",
       "      <td>...</td>\n",
       "      <td>...</td>\n",
       "    </tr>\n",
       "    <tr>\n",
       "      <th>1354</th>\n",
       "      <td>https://timesofindia.indiatimes.com/sports/mor...</td>\n",
       "      <td>Sports</td>\n",
       "      <td>wresting-Sports</td>\n",
       "      <td>NEW DELHI: The Wrestling Federation of India (...</td>\n",
       "    </tr>\n",
       "    <tr>\n",
       "      <th>1355</th>\n",
       "      <td>https://timesofindia.indiatimes.com/sports/mor...</td>\n",
       "      <td>Sports</td>\n",
       "      <td>wresting-Sports</td>\n",
       "      <td>NEW DELHI: Olympic medallist Bajrang Punia on ...</td>\n",
       "    </tr>\n",
       "    <tr>\n",
       "      <th>1356</th>\n",
       "      <td>https://timesofindia.indiatimes.com/sports/mor...</td>\n",
       "      <td>Sports</td>\n",
       "      <td>wresting-Sports</td>\n",
       "      <td>NEW DELHI: The protesting wrestlers decided to...</td>\n",
       "    </tr>\n",
       "    <tr>\n",
       "      <th>1357</th>\n",
       "      <td>https://timesofindia.indiatimes.com/sports/mor...</td>\n",
       "      <td>Sports</td>\n",
       "      <td>wresting-Sports</td>\n",
       "      <td>NEW DELHI: Indian Olympic Association (IOA) on...</td>\n",
       "    </tr>\n",
       "    <tr>\n",
       "      <th>1358</th>\n",
       "      <td>https://timesofindia.indiatimes.com/sports/mor...</td>\n",
       "      <td>Sports</td>\n",
       "      <td>wresting-Sports</td>\n",
       "      <td>NEW DELHI: Levelling fresh allegations against...</td>\n",
       "    </tr>\n",
       "  </tbody>\n",
       "</table>\n",
       "<p>1123 rows × 4 columns</p>\n",
       "</div>"
      ],
      "text/plain": [
       "                                                    URL    Type  \\\n",
       "0     https://timesofindia.indiatimes.com/sports/wwe...  Sports   \n",
       "1     https://timesofindia.indiatimes.com/sports/wwe...  Sports   \n",
       "2     https://timesofindia.indiatimes.com/sports/wwe...  Sports   \n",
       "3     https://timesofindia.indiatimes.com/sports/wwe...  Sports   \n",
       "4     https://timesofindia.indiatimes.com/sports/wwe...  Sports   \n",
       "...                                                 ...     ...   \n",
       "1354  https://timesofindia.indiatimes.com/sports/mor...  Sports   \n",
       "1355  https://timesofindia.indiatimes.com/sports/mor...  Sports   \n",
       "1356  https://timesofindia.indiatimes.com/sports/mor...  Sports   \n",
       "1357  https://timesofindia.indiatimes.com/sports/mor...  Sports   \n",
       "1358  https://timesofindia.indiatimes.com/sports/mor...  Sports   \n",
       "\n",
       "              SubType                                            article  \n",
       "0          wwe-Sports  LOS ANGELES: World Wrestling Entertainment apo...  \n",
       "1          wwe-Sports  NEW DELHI: In a major announcement on Monday, ...  \n",
       "2          wwe-Sports  WASHINGTON: WWE, an organisation that is alrea...  \n",
       "3          wwe-Sports  NEW DELHI: In the aftermath of Stephanie McMah...  \n",
       "4          wwe-Sports  NEW DELHI: It's confirmed. Former CEO Vince Mc...  \n",
       "...               ...                                                ...  \n",
       "1354  wresting-Sports  NEW DELHI: The Wrestling Federation of India (...  \n",
       "1355  wresting-Sports  NEW DELHI: Olympic medallist Bajrang Punia on ...  \n",
       "1356  wresting-Sports  NEW DELHI: The protesting wrestlers decided to...  \n",
       "1357  wresting-Sports  NEW DELHI: Indian Olympic Association (IOA) on...  \n",
       "1358  wresting-Sports  NEW DELHI: Levelling fresh allegations against...  \n",
       "\n",
       "[1123 rows x 4 columns]"
      ]
     },
     "execution_count": 152,
     "metadata": {},
     "output_type": "execute_result"
    }
   ],
   "source": [
    "data_sport"
   ]
  },
  {
   "cell_type": "markdown",
   "id": "645ad0b1",
   "metadata": {},
   "source": [
    " <div style=\"background-color: pink; \">\n",
    "    <p style=\"font-size: 24px; font-weight: bold; color: red;\">POLITICS</p>\n",
    "</div>"
   ]
  },
  {
   "cell_type": "markdown",
   "id": "debfde93",
   "metadata": {},
   "source": [
    "### <font color='red'>Extracting data of politics</font>"
   ]
  },
  {
   "cell_type": "code",
   "execution_count": 168,
   "id": "a5a597ba",
   "metadata": {},
   "outputs": [
    {
     "data": {
      "text/plain": [
       "105"
      ]
     },
     "execution_count": 168,
     "metadata": {},
     "output_type": "execute_result"
    }
   ],
   "source": [
    "driver.get('https://timesofindia.indiatimes.com/elections') \n",
    "politics=[]\n",
    "\n",
    "url=driver.find_elements(By.XPATH,'//*[@id=\"content\"]/div//ul//span/a')\n",
    "for i in url:\n",
    "    politics.append(i.get_attribute('href'))\n",
    "    \n",
    "len(politics)"
   ]
  },
  {
   "cell_type": "code",
   "execution_count": 176,
   "id": "d0847b3e",
   "metadata": {},
   "outputs": [],
   "source": [
    "politics=pd.DataFrame({'URL': politics})\n",
    "politics['Type']='politics'\n",
    "politics['SubType']='mixed'"
   ]
  },
  {
   "cell_type": "code",
   "execution_count": 177,
   "id": "2a012c87",
   "metadata": {},
   "outputs": [
    {
     "data": {
      "text/plain": [
       "400"
      ]
     },
     "execution_count": 177,
     "metadata": {},
     "output_type": "execute_result"
    }
   ],
   "source": [
    "driver.get('https://timesofindia.indiatimes.com/elections/assembly-elections/uttar-pradesh') \n",
    "pol_up=[]\n",
    "\n",
    "for page in range(0,8):\n",
    "    next_button=driver.find_element(By.XPATH,'//*[@id=\"content\"]/div/div[1]/div[3]/ul[2]//a')\n",
    "    url=driver.find_elements(By.XPATH,'//*[@id=\"content\"]/div/div[1]/div[3]//span/a')\n",
    "    for i in url:\n",
    "        pol_up.append(i.get_attribute('href'))\n",
    "    \n",
    "len(pol_up)\n",
    "\n"
   ]
  },
  {
   "cell_type": "code",
   "execution_count": 178,
   "id": "a477c0db",
   "metadata": {},
   "outputs": [],
   "source": [
    "pol_up=pd.DataFrame({'URL': pol_up})\n",
    "pol_up['Type']='politics'\n",
    "pol_up['SubType']='mixed'"
   ]
  },
  {
   "cell_type": "code",
   "execution_count": 179,
   "id": "2512af9f",
   "metadata": {},
   "outputs": [
    {
     "data": {
      "text/plain": [
       "16"
      ]
     },
     "execution_count": 179,
     "metadata": {},
     "output_type": "execute_result"
    }
   ],
   "source": [
    "driver.get('https://timesofindia.indiatimes.com/elections/assembly-elections/gujarat') \n",
    "pol_guj=[]\n",
    "\n",
    "url=driver.find_elements(By.XPATH,'//*[@id=\"content\"]/div/div[3]/div[5]//span/a')\n",
    "for i in url:\n",
    "    pol_guj.append(i.get_attribute('href'))\n",
    "    \n",
    "len(pol_guj)"
   ]
  },
  {
   "cell_type": "code",
   "execution_count": 180,
   "id": "ed04e1fc",
   "metadata": {},
   "outputs": [],
   "source": [
    "pol_guj=pd.DataFrame({'URL': pol_guj})\n",
    "pol_guj['Type']='politics'\n",
    "pol_guj['SubType']='mixed'"
   ]
  },
  {
   "cell_type": "code",
   "execution_count": 181,
   "id": "567cbbad",
   "metadata": {},
   "outputs": [
    {
     "data": {
      "text/plain": [
       "400"
      ]
     },
     "execution_count": 181,
     "metadata": {},
     "output_type": "execute_result"
    }
   ],
   "source": [
    "driver.get('https://timesofindia.indiatimes.com/elections/assembly-elections/goa') \n",
    "pol_goa=[]\n",
    "\n",
    "for page in range(0,8):\n",
    "    next_button=driver.find_element(By.XPATH,'//*[@id=\"content\"]/div/div[1]/div[3]/ul[2]//a')\n",
    "    url=driver.find_elements(By.XPATH,'//*[@id=\"content\"]/div/div[1]/div[3]//span/a')\n",
    "    for i in url:\n",
    "        pol_goa.append(i.get_attribute('href'))\n",
    "    \n",
    "len(pol_goa)\n"
   ]
  },
  {
   "cell_type": "code",
   "execution_count": 182,
   "id": "c3d3d910",
   "metadata": {},
   "outputs": [],
   "source": [
    "pol_goa=pd.DataFrame({'URL': pol_goa})\n",
    "pol_goa['Type']='politics'\n",
    "pol_goa['SubType']='mixed'"
   ]
  },
  {
   "cell_type": "code",
   "execution_count": 183,
   "id": "597da624",
   "metadata": {},
   "outputs": [
    {
     "data": {
      "text/plain": [
       "400"
      ]
     },
     "execution_count": 183,
     "metadata": {},
     "output_type": "execute_result"
    }
   ],
   "source": [
    "driver.get('https://timesofindia.indiatimes.com/elections/assembly-elections/punjab') \n",
    "pol_pjb=[]\n",
    "\n",
    "for page in range(0,8):\n",
    "    next_button=driver.find_element(By.XPATH,'//*[@id=\"content\"]/div/div[1]/div[3]/ul[2]//a')\n",
    "    url=driver.find_elements(By.XPATH,'//*[@id=\"content\"]/div/div[1]/div[3]//span/a')\n",
    "    for i in url:\n",
    "        pol_pjb.append(i.get_attribute('href'))\n",
    "    \n",
    "len(pol_pjb)"
   ]
  },
  {
   "cell_type": "code",
   "execution_count": 184,
   "id": "8210381e",
   "metadata": {},
   "outputs": [],
   "source": [
    "pol_pjb=pd.DataFrame({'URL': pol_pjb})\n",
    "pol_pjb['Type']='politics'\n",
    "pol_pjb['SubType']='mixed'"
   ]
  },
  {
   "cell_type": "markdown",
   "id": "9aa6017b",
   "metadata": {},
   "source": [
    "### <font color='red'>combining political data in dataframe</font>"
   ]
  },
  {
   "cell_type": "code",
   "execution_count": 188,
   "id": "0e54bcc0",
   "metadata": {},
   "outputs": [
    {
     "data": {
      "text/html": [
       "<div>\n",
       "<style scoped>\n",
       "    .dataframe tbody tr th:only-of-type {\n",
       "        vertical-align: middle;\n",
       "    }\n",
       "\n",
       "    .dataframe tbody tr th {\n",
       "        vertical-align: top;\n",
       "    }\n",
       "\n",
       "    .dataframe thead th {\n",
       "        text-align: right;\n",
       "    }\n",
       "</style>\n",
       "<table border=\"1\" class=\"dataframe\">\n",
       "  <thead>\n",
       "    <tr style=\"text-align: right;\">\n",
       "      <th></th>\n",
       "      <th>URL</th>\n",
       "      <th>Type</th>\n",
       "      <th>SubType</th>\n",
       "    </tr>\n",
       "  </thead>\n",
       "  <tbody>\n",
       "    <tr>\n",
       "      <th>0</th>\n",
       "      <td>https://timesofindia.indiatimes.com/elections/...</td>\n",
       "      <td>politics</td>\n",
       "      <td>mixed</td>\n",
       "    </tr>\n",
       "    <tr>\n",
       "      <th>1</th>\n",
       "      <td>https://timesofindia.indiatimes.com/elections/...</td>\n",
       "      <td>politics</td>\n",
       "      <td>mixed</td>\n",
       "    </tr>\n",
       "    <tr>\n",
       "      <th>2</th>\n",
       "      <td>https://timesofindia.indiatimes.com/elections/...</td>\n",
       "      <td>politics</td>\n",
       "      <td>mixed</td>\n",
       "    </tr>\n",
       "    <tr>\n",
       "      <th>3</th>\n",
       "      <td>https://timesofindia.indiatimes.com/elections/...</td>\n",
       "      <td>politics</td>\n",
       "      <td>mixed</td>\n",
       "    </tr>\n",
       "    <tr>\n",
       "      <th>4</th>\n",
       "      <td>https://timesofindia.indiatimes.com/elections/...</td>\n",
       "      <td>politics</td>\n",
       "      <td>mixed</td>\n",
       "    </tr>\n",
       "    <tr>\n",
       "      <th>...</th>\n",
       "      <td>...</td>\n",
       "      <td>...</td>\n",
       "      <td>...</td>\n",
       "    </tr>\n",
       "    <tr>\n",
       "      <th>1316</th>\n",
       "      <td>https://timesofindia.indiatimes.com/elections/...</td>\n",
       "      <td>politics</td>\n",
       "      <td>mixed</td>\n",
       "    </tr>\n",
       "    <tr>\n",
       "      <th>1317</th>\n",
       "      <td>https://timesofindia.indiatimes.com/elections/...</td>\n",
       "      <td>politics</td>\n",
       "      <td>mixed</td>\n",
       "    </tr>\n",
       "    <tr>\n",
       "      <th>1318</th>\n",
       "      <td>https://timesofindia.indiatimes.com/elections/...</td>\n",
       "      <td>politics</td>\n",
       "      <td>mixed</td>\n",
       "    </tr>\n",
       "    <tr>\n",
       "      <th>1319</th>\n",
       "      <td>https://timesofindia.indiatimes.com/elections/...</td>\n",
       "      <td>politics</td>\n",
       "      <td>mixed</td>\n",
       "    </tr>\n",
       "    <tr>\n",
       "      <th>1320</th>\n",
       "      <td>https://timesofindia.indiatimes.com/elections/...</td>\n",
       "      <td>politics</td>\n",
       "      <td>mixed</td>\n",
       "    </tr>\n",
       "  </tbody>\n",
       "</table>\n",
       "<p>1321 rows × 3 columns</p>\n",
       "</div>"
      ],
      "text/plain": [
       "                                                    URL      Type SubType\n",
       "0     https://timesofindia.indiatimes.com/elections/...  politics   mixed\n",
       "1     https://timesofindia.indiatimes.com/elections/...  politics   mixed\n",
       "2     https://timesofindia.indiatimes.com/elections/...  politics   mixed\n",
       "3     https://timesofindia.indiatimes.com/elections/...  politics   mixed\n",
       "4     https://timesofindia.indiatimes.com/elections/...  politics   mixed\n",
       "...                                                 ...       ...     ...\n",
       "1316  https://timesofindia.indiatimes.com/elections/...  politics   mixed\n",
       "1317  https://timesofindia.indiatimes.com/elections/...  politics   mixed\n",
       "1318  https://timesofindia.indiatimes.com/elections/...  politics   mixed\n",
       "1319  https://timesofindia.indiatimes.com/elections/...  politics   mixed\n",
       "1320  https://timesofindia.indiatimes.com/elections/...  politics   mixed\n",
       "\n",
       "[1321 rows x 3 columns]"
      ]
     },
     "execution_count": 188,
     "metadata": {},
     "output_type": "execute_result"
    }
   ],
   "source": [
    "data_pol=pd.concat([pol_pjb,pol_goa,pol_guj,pol_up,politics], ignore_index=True)\n",
    "data_pol"
   ]
  },
  {
   "cell_type": "markdown",
   "id": "fdef7ca9",
   "metadata": {},
   "source": [
    "### <font color='red'>Extracting the articles of each url and storing it in dataframe</font>\n"
   ]
  },
  {
   "cell_type": "code",
   "execution_count": 189,
   "id": "767ddad4",
   "metadata": {},
   "outputs": [],
   "source": [
    "article = []\n",
    "\n",
    "for i in data_pol['URL']:\n",
    "    page = requests.get(i)\n",
    "    soup = bfs(page.content) \n",
    "    try:\n",
    "        a = soup.find('div', {'class': '_s30J clearfix'}).text\n",
    "    except AttributeError:\n",
    "        a = 'NOT FOUND'\n",
    "    article.append(a)"
   ]
  },
  {
   "cell_type": "code",
   "execution_count": 192,
   "id": "ca8a8c04",
   "metadata": {},
   "outputs": [
    {
     "data": {
      "text/html": [
       "<div>\n",
       "<style scoped>\n",
       "    .dataframe tbody tr th:only-of-type {\n",
       "        vertical-align: middle;\n",
       "    }\n",
       "\n",
       "    .dataframe tbody tr th {\n",
       "        vertical-align: top;\n",
       "    }\n",
       "\n",
       "    .dataframe thead th {\n",
       "        text-align: right;\n",
       "    }\n",
       "</style>\n",
       "<table border=\"1\" class=\"dataframe\">\n",
       "  <thead>\n",
       "    <tr style=\"text-align: right;\">\n",
       "      <th></th>\n",
       "      <th>URL</th>\n",
       "      <th>Type</th>\n",
       "      <th>SubType</th>\n",
       "      <th>article</th>\n",
       "    </tr>\n",
       "  </thead>\n",
       "  <tbody>\n",
       "    <tr>\n",
       "      <th>0</th>\n",
       "      <td>https://timesofindia.indiatimes.com/elections/...</td>\n",
       "      <td>politics</td>\n",
       "      <td>mixed</td>\n",
       "      <td>CHANDIGARH: The Punjab government on Saturday ...</td>\n",
       "    </tr>\n",
       "    <tr>\n",
       "      <th>1</th>\n",
       "      <td>https://timesofindia.indiatimes.com/elections/...</td>\n",
       "      <td>politics</td>\n",
       "      <td>mixed</td>\n",
       "      <td>CHANDIGARH: Eight first-time MLAs were preferr...</td>\n",
       "    </tr>\n",
       "    <tr>\n",
       "      <th>2</th>\n",
       "      <td>https://timesofindia.indiatimes.com/elections/...</td>\n",
       "      <td>politics</td>\n",
       "      <td>mixed</td>\n",
       "      <td>CHANDIGARH: In the first meeting held soon aft...</td>\n",
       "    </tr>\n",
       "    <tr>\n",
       "      <th>3</th>\n",
       "      <td>https://timesofindia.indiatimes.com/elections/...</td>\n",
       "      <td>politics</td>\n",
       "      <td>mixed</td>\n",
       "      <td>CHANDIGARH: Punjab's new cabinet, led by chief...</td>\n",
       "    </tr>\n",
       "    <tr>\n",
       "      <th>4</th>\n",
       "      <td>https://timesofindia.indiatimes.com/elections/...</td>\n",
       "      <td>politics</td>\n",
       "      <td>mixed</td>\n",
       "      <td>CHANDIGARH: Ten ministers, including a woman, ...</td>\n",
       "    </tr>\n",
       "    <tr>\n",
       "      <th>...</th>\n",
       "      <td>...</td>\n",
       "      <td>...</td>\n",
       "      <td>...</td>\n",
       "      <td>...</td>\n",
       "    </tr>\n",
       "    <tr>\n",
       "      <th>1316</th>\n",
       "      <td>https://timesofindia.indiatimes.com/elections/...</td>\n",
       "      <td>politics</td>\n",
       "      <td>mixed</td>\n",
       "      <td>NEW DELHI: Dr Manik Saha (69) took oath of off...</td>\n",
       "    </tr>\n",
       "    <tr>\n",
       "      <th>1317</th>\n",
       "      <td>https://timesofindia.indiatimes.com/elections/...</td>\n",
       "      <td>politics</td>\n",
       "      <td>mixed</td>\n",
       "      <td>AGARTALA/GUWAHATI: Manik Saha, whose 10 months...</td>\n",
       "    </tr>\n",
       "    <tr>\n",
       "      <th>1318</th>\n",
       "      <td>https://timesofindia.indiatimes.com/elections/...</td>\n",
       "      <td>politics</td>\n",
       "      <td>mixed</td>\n",
       "      <td>AGARTALA: BJP leader Manik Saha on Monday even...</td>\n",
       "    </tr>\n",
       "    <tr>\n",
       "      <th>1319</th>\n",
       "      <td>https://timesofindia.indiatimes.com/elections/...</td>\n",
       "      <td>politics</td>\n",
       "      <td>mixed</td>\n",
       "      <td>NEW DELHI: Manik Saha has been named the chief...</td>\n",
       "    </tr>\n",
       "    <tr>\n",
       "      <th>1320</th>\n",
       "      <td>https://timesofindia.indiatimes.com/elections/...</td>\n",
       "      <td>politics</td>\n",
       "      <td>mixed</td>\n",
       "      <td>AGARTALA: BJP's chief troubleshooter in the no...</td>\n",
       "    </tr>\n",
       "  </tbody>\n",
       "</table>\n",
       "<p>1303 rows × 4 columns</p>\n",
       "</div>"
      ],
      "text/plain": [
       "                                                    URL      Type SubType  \\\n",
       "0     https://timesofindia.indiatimes.com/elections/...  politics   mixed   \n",
       "1     https://timesofindia.indiatimes.com/elections/...  politics   mixed   \n",
       "2     https://timesofindia.indiatimes.com/elections/...  politics   mixed   \n",
       "3     https://timesofindia.indiatimes.com/elections/...  politics   mixed   \n",
       "4     https://timesofindia.indiatimes.com/elections/...  politics   mixed   \n",
       "...                                                 ...       ...     ...   \n",
       "1316  https://timesofindia.indiatimes.com/elections/...  politics   mixed   \n",
       "1317  https://timesofindia.indiatimes.com/elections/...  politics   mixed   \n",
       "1318  https://timesofindia.indiatimes.com/elections/...  politics   mixed   \n",
       "1319  https://timesofindia.indiatimes.com/elections/...  politics   mixed   \n",
       "1320  https://timesofindia.indiatimes.com/elections/...  politics   mixed   \n",
       "\n",
       "                                                article  \n",
       "0     CHANDIGARH: The Punjab government on Saturday ...  \n",
       "1     CHANDIGARH: Eight first-time MLAs were preferr...  \n",
       "2     CHANDIGARH: In the first meeting held soon aft...  \n",
       "3     CHANDIGARH: Punjab's new cabinet, led by chief...  \n",
       "4     CHANDIGARH: Ten ministers, including a woman, ...  \n",
       "...                                                 ...  \n",
       "1316  NEW DELHI: Dr Manik Saha (69) took oath of off...  \n",
       "1317  AGARTALA/GUWAHATI: Manik Saha, whose 10 months...  \n",
       "1318  AGARTALA: BJP leader Manik Saha on Monday even...  \n",
       "1319  NEW DELHI: Manik Saha has been named the chief...  \n",
       "1320  AGARTALA: BJP's chief troubleshooter in the no...  \n",
       "\n",
       "[1303 rows x 4 columns]"
      ]
     },
     "execution_count": 192,
     "metadata": {},
     "output_type": "execute_result"
    }
   ],
   "source": [
    "data_pol['article']=article\n",
    "data_pol.drop(data_pol[data_pol['article'] == 'NOT FOUND'].index, inplace=True)\n",
    "data_pol"
   ]
  },
  {
   "cell_type": "markdown",
   "id": "9da55246",
   "metadata": {},
   "source": [
    "### <font color='red'>Merging all data in dataframe</font>\n"
   ]
  },
  {
   "cell_type": "code",
   "execution_count": 208,
   "id": "7087df1c",
   "metadata": {},
   "outputs": [
    {
     "data": {
      "text/html": [
       "<div>\n",
       "<style scoped>\n",
       "    .dataframe tbody tr th:only-of-type {\n",
       "        vertical-align: middle;\n",
       "    }\n",
       "\n",
       "    .dataframe tbody tr th {\n",
       "        vertical-align: top;\n",
       "    }\n",
       "\n",
       "    .dataframe thead th {\n",
       "        text-align: right;\n",
       "    }\n",
       "</style>\n",
       "<table border=\"1\" class=\"dataframe\">\n",
       "  <thead>\n",
       "    <tr style=\"text-align: right;\">\n",
       "      <th></th>\n",
       "      <th>URL</th>\n",
       "      <th>Type</th>\n",
       "      <th>SubType</th>\n",
       "      <th>article</th>\n",
       "    </tr>\n",
       "  </thead>\n",
       "  <tbody>\n",
       "    <tr>\n",
       "      <th>0</th>\n",
       "      <td>https://timesofindia.indiatimes.com/elections/...</td>\n",
       "      <td>politics</td>\n",
       "      <td>mixed</td>\n",
       "      <td>CHANDIGARH: The Punjab government on Saturday ...</td>\n",
       "    </tr>\n",
       "    <tr>\n",
       "      <th>1</th>\n",
       "      <td>https://timesofindia.indiatimes.com/elections/...</td>\n",
       "      <td>politics</td>\n",
       "      <td>mixed</td>\n",
       "      <td>CHANDIGARH: Eight first-time MLAs were preferr...</td>\n",
       "    </tr>\n",
       "    <tr>\n",
       "      <th>2</th>\n",
       "      <td>https://timesofindia.indiatimes.com/elections/...</td>\n",
       "      <td>politics</td>\n",
       "      <td>mixed</td>\n",
       "      <td>CHANDIGARH: In the first meeting held soon aft...</td>\n",
       "    </tr>\n",
       "    <tr>\n",
       "      <th>3</th>\n",
       "      <td>https://timesofindia.indiatimes.com/elections/...</td>\n",
       "      <td>politics</td>\n",
       "      <td>mixed</td>\n",
       "      <td>CHANDIGARH: Punjab's new cabinet, led by chief...</td>\n",
       "    </tr>\n",
       "    <tr>\n",
       "      <th>4</th>\n",
       "      <td>https://timesofindia.indiatimes.com/elections/...</td>\n",
       "      <td>politics</td>\n",
       "      <td>mixed</td>\n",
       "      <td>CHANDIGARH: Ten ministers, including a woman, ...</td>\n",
       "    </tr>\n",
       "    <tr>\n",
       "      <th>...</th>\n",
       "      <td>...</td>\n",
       "      <td>...</td>\n",
       "      <td>...</td>\n",
       "      <td>...</td>\n",
       "    </tr>\n",
       "    <tr>\n",
       "      <th>3677</th>\n",
       "      <td>https://timesofindia.indiatimes.com/business/i...</td>\n",
       "      <td>Business</td>\n",
       "      <td>Coperate-Business</td>\n",
       "      <td>WASHINGTON: Thousands of Indian IT professiona...</td>\n",
       "    </tr>\n",
       "    <tr>\n",
       "      <th>3678</th>\n",
       "      <td>https://timesofindia.indiatimes.com/business/i...</td>\n",
       "      <td>Business</td>\n",
       "      <td>Coperate-Business</td>\n",
       "      <td>NEW DELHI: Capital markets regulator Sebi has ...</td>\n",
       "    </tr>\n",
       "    <tr>\n",
       "      <th>3679</th>\n",
       "      <td>https://timesofindia.indiatimes.com/business/i...</td>\n",
       "      <td>Business</td>\n",
       "      <td>Coperate-Business</td>\n",
       "      <td>NEW DELHI: Infosys Ltd. is preparing to accele...</td>\n",
       "    </tr>\n",
       "    <tr>\n",
       "      <th>3680</th>\n",
       "      <td>https://timesofindia.indiatimes.com/business/i...</td>\n",
       "      <td>Business</td>\n",
       "      <td>Coperate-Business</td>\n",
       "      <td>MUMBAI: Adani Enterprises, which is launching ...</td>\n",
       "    </tr>\n",
       "    <tr>\n",
       "      <th>3681</th>\n",
       "      <td>https://timesofindia.indiatimes.com/business/i...</td>\n",
       "      <td>Business</td>\n",
       "      <td>Coperate-Business</td>\n",
       "      <td>NEW DELHI: The Supreme Court on Thursday rejec...</td>\n",
       "    </tr>\n",
       "  </tbody>\n",
       "</table>\n",
       "<p>3682 rows × 4 columns</p>\n",
       "</div>"
      ],
      "text/plain": [
       "                                                    URL      Type  \\\n",
       "0     https://timesofindia.indiatimes.com/elections/...  politics   \n",
       "1     https://timesofindia.indiatimes.com/elections/...  politics   \n",
       "2     https://timesofindia.indiatimes.com/elections/...  politics   \n",
       "3     https://timesofindia.indiatimes.com/elections/...  politics   \n",
       "4     https://timesofindia.indiatimes.com/elections/...  politics   \n",
       "...                                                 ...       ...   \n",
       "3677  https://timesofindia.indiatimes.com/business/i...  Business   \n",
       "3678  https://timesofindia.indiatimes.com/business/i...  Business   \n",
       "3679  https://timesofindia.indiatimes.com/business/i...  Business   \n",
       "3680  https://timesofindia.indiatimes.com/business/i...  Business   \n",
       "3681  https://timesofindia.indiatimes.com/business/i...  Business   \n",
       "\n",
       "                SubType                                            article  \n",
       "0                 mixed  CHANDIGARH: The Punjab government on Saturday ...  \n",
       "1                 mixed  CHANDIGARH: Eight first-time MLAs were preferr...  \n",
       "2                 mixed  CHANDIGARH: In the first meeting held soon aft...  \n",
       "3                 mixed  CHANDIGARH: Punjab's new cabinet, led by chief...  \n",
       "4                 mixed  CHANDIGARH: Ten ministers, including a woman, ...  \n",
       "...                 ...                                                ...  \n",
       "3677  Coperate-Business  WASHINGTON: Thousands of Indian IT professiona...  \n",
       "3678  Coperate-Business  NEW DELHI: Capital markets regulator Sebi has ...  \n",
       "3679  Coperate-Business  NEW DELHI: Infosys Ltd. is preparing to accele...  \n",
       "3680  Coperate-Business  MUMBAI: Adani Enterprises, which is launching ...  \n",
       "3681  Coperate-Business  NEW DELHI: The Supreme Court on Thursday rejec...  \n",
       "\n",
       "[3682 rows x 4 columns]"
      ]
     },
     "execution_count": 208,
     "metadata": {},
     "output_type": "execute_result"
    }
   ],
   "source": [
    "data=pd.concat([data_pol,data_sport,data_business], ignore_index=True)\n",
    "data"
   ]
  },
  {
   "cell_type": "code",
   "execution_count": 210,
   "id": "4bb7f998",
   "metadata": {},
   "outputs": [],
   "source": [
    "data.to_csv('full_TOI.csv', index=False)\n"
   ]
  },
  {
   "cell_type": "code",
   "execution_count": 212,
   "id": "b819a191",
   "metadata": {},
   "outputs": [
    {
     "data": {
      "text/html": [
       "<div>\n",
       "<style scoped>\n",
       "    .dataframe tbody tr th:only-of-type {\n",
       "        vertical-align: middle;\n",
       "    }\n",
       "\n",
       "    .dataframe tbody tr th {\n",
       "        vertical-align: top;\n",
       "    }\n",
       "\n",
       "    .dataframe thead th {\n",
       "        text-align: right;\n",
       "    }\n",
       "</style>\n",
       "<table border=\"1\" class=\"dataframe\">\n",
       "  <thead>\n",
       "    <tr style=\"text-align: right;\">\n",
       "      <th></th>\n",
       "      <th>Type</th>\n",
       "      <th>article</th>\n",
       "    </tr>\n",
       "  </thead>\n",
       "  <tbody>\n",
       "    <tr>\n",
       "      <th>0</th>\n",
       "      <td>politics</td>\n",
       "      <td>CHANDIGARH: The Punjab government on Saturday ...</td>\n",
       "    </tr>\n",
       "    <tr>\n",
       "      <th>1</th>\n",
       "      <td>politics</td>\n",
       "      <td>CHANDIGARH: Eight first-time MLAs were preferr...</td>\n",
       "    </tr>\n",
       "    <tr>\n",
       "      <th>2</th>\n",
       "      <td>politics</td>\n",
       "      <td>CHANDIGARH: In the first meeting held soon aft...</td>\n",
       "    </tr>\n",
       "    <tr>\n",
       "      <th>3</th>\n",
       "      <td>politics</td>\n",
       "      <td>CHANDIGARH: Punjab's new cabinet, led by chief...</td>\n",
       "    </tr>\n",
       "    <tr>\n",
       "      <th>4</th>\n",
       "      <td>politics</td>\n",
       "      <td>CHANDIGARH: Ten ministers, including a woman, ...</td>\n",
       "    </tr>\n",
       "    <tr>\n",
       "      <th>...</th>\n",
       "      <td>...</td>\n",
       "      <td>...</td>\n",
       "    </tr>\n",
       "    <tr>\n",
       "      <th>3677</th>\n",
       "      <td>Business</td>\n",
       "      <td>WASHINGTON: Thousands of Indian IT professiona...</td>\n",
       "    </tr>\n",
       "    <tr>\n",
       "      <th>3678</th>\n",
       "      <td>Business</td>\n",
       "      <td>NEW DELHI: Capital markets regulator Sebi has ...</td>\n",
       "    </tr>\n",
       "    <tr>\n",
       "      <th>3679</th>\n",
       "      <td>Business</td>\n",
       "      <td>NEW DELHI: Infosys Ltd. is preparing to accele...</td>\n",
       "    </tr>\n",
       "    <tr>\n",
       "      <th>3680</th>\n",
       "      <td>Business</td>\n",
       "      <td>MUMBAI: Adani Enterprises, which is launching ...</td>\n",
       "    </tr>\n",
       "    <tr>\n",
       "      <th>3681</th>\n",
       "      <td>Business</td>\n",
       "      <td>NEW DELHI: The Supreme Court on Thursday rejec...</td>\n",
       "    </tr>\n",
       "  </tbody>\n",
       "</table>\n",
       "<p>3682 rows × 2 columns</p>\n",
       "</div>"
      ],
      "text/plain": [
       "          Type                                            article\n",
       "0     politics  CHANDIGARH: The Punjab government on Saturday ...\n",
       "1     politics  CHANDIGARH: Eight first-time MLAs were preferr...\n",
       "2     politics  CHANDIGARH: In the first meeting held soon aft...\n",
       "3     politics  CHANDIGARH: Punjab's new cabinet, led by chief...\n",
       "4     politics  CHANDIGARH: Ten ministers, including a woman, ...\n",
       "...        ...                                                ...\n",
       "3677  Business  WASHINGTON: Thousands of Indian IT professiona...\n",
       "3678  Business  NEW DELHI: Capital markets regulator Sebi has ...\n",
       "3679  Business  NEW DELHI: Infosys Ltd. is preparing to accele...\n",
       "3680  Business  MUMBAI: Adani Enterprises, which is launching ...\n",
       "3681  Business  NEW DELHI: The Supreme Court on Thursday rejec...\n",
       "\n",
       "[3682 rows x 2 columns]"
      ]
     },
     "execution_count": 212,
     "metadata": {},
     "output_type": "execute_result"
    }
   ],
   "source": [
    "x=data.drop(['URL','SubType'], axis=1)\n",
    "x"
   ]
  },
  {
   "cell_type": "code",
   "execution_count": 213,
   "id": "ce439947",
   "metadata": {},
   "outputs": [],
   "source": [
    "x.to_csv('TOI_for_NLP.csv', index=False)\n"
   ]
  },
  {
   "cell_type": "markdown",
   "id": "ee49718e",
   "metadata": {},
   "source": [
    " <div style=\"background-color: cyan; \">\n",
    "    <p style=\"font-size: 24px; font-weight: bold; color: blue;text-align: center;\">PART 2: TEXT CLASSIFICATION</p>\n",
    "</div>"
   ]
  },
  {
   "cell_type": "markdown",
   "id": "8ac50684",
   "metadata": {},
   "source": [
    "### <font color='deeppink'>Preprocess the text data by cleaning it, removing stopwords, punctuations and other irrelevant characters.</font>\n",
    "\n",
    "### <font color='deeppink'>Use the Hugging Face library to fine-tune a pre-trained model such as BERT or GPT-2 on the classification task. The candidate should use the transformers library in python.</font>\n",
    "\n",
    "### <font color='deeppink'>Train the model on the dataset and evaluate the performance using metrics such as accuracy, precision, recall and F1-score</font>\n",
    "\n",
    "\n"
   ]
  },
  {
   "cell_type": "markdown",
   "id": "fd3438b5",
   "metadata": {},
   "source": [
    "### <font color='red'>Importing lib</font>"
   ]
  },
  {
   "cell_type": "code",
   "execution_count": 235,
   "id": "65cd3d5c",
   "metadata": {},
   "outputs": [],
   "source": [
    "import re\n",
    "import nltk\n",
    "from nltk.corpus import stopwords\n",
    "from nltk.tokenize import word_tokenize\n",
    "import string\n"
   ]
  },
  {
   "cell_type": "code",
   "execution_count": 245,
   "id": "2e6cd85c",
   "metadata": {},
   "outputs": [
    {
     "name": "stdout",
     "output_type": "stream",
     "text": [
      "Collecting transformers\n",
      "  Downloading transformers-4.28.1-py3-none-any.whl (7.0 MB)\n",
      "     ---------------------------------------- 7.0/7.0 MB 3.3 MB/s eta 0:00:00\n",
      "Collecting filelock\n",
      "  Downloading filelock-3.11.0-py3-none-any.whl (10.0 kB)\n",
      "Requirement already satisfied: requests in c:\\users\\deepshika\\appdata\\local\\programs\\python\\python310\\lib\\site-packages (from transformers) (2.28.1)\n",
      "Requirement already satisfied: numpy>=1.17 in c:\\users\\deepshika\\appdata\\local\\programs\\python\\python310\\lib\\site-packages (from transformers) (1.22.3)\n",
      "Requirement already satisfied: regex!=2019.12.17 in c:\\users\\deepshika\\appdata\\local\\programs\\python\\python310\\lib\\site-packages (from transformers) (2022.10.31)\n",
      "Collecting huggingface-hub<1.0,>=0.11.0\n",
      "  Downloading huggingface_hub-0.13.4-py3-none-any.whl (200 kB)\n",
      "     -------------------------------------- 200.1/200.1 kB 1.2 MB/s eta 0:00:00\n",
      "Collecting tokenizers!=0.11.3,<0.14,>=0.11.1\n",
      "  Downloading tokenizers-0.13.3-cp310-cp310-win_amd64.whl (3.5 MB)\n",
      "     ---------------------------------------- 3.5/3.5 MB 2.6 MB/s eta 0:00:00\n",
      "Requirement already satisfied: pyyaml>=5.1 in c:\\users\\deepshika\\appdata\\local\\programs\\python\\python310\\lib\\site-packages (from transformers) (6.0)\n",
      "Requirement already satisfied: packaging>=20.0 in c:\\users\\deepshika\\appdata\\local\\programs\\python\\python310\\lib\\site-packages (from transformers) (21.3)\n",
      "Requirement already satisfied: tqdm>=4.27 in c:\\users\\deepshika\\appdata\\local\\programs\\python\\python310\\lib\\site-packages (from transformers) (4.64.0)\n",
      "Requirement already satisfied: typing-extensions>=3.7.4.3 in c:\\users\\deepshika\\appdata\\local\\programs\\python\\python310\\lib\\site-packages (from huggingface-hub<1.0,>=0.11.0->transformers) (4.3.0)\n",
      "Requirement already satisfied: pyparsing!=3.0.5,>=2.0.2 in c:\\users\\deepshika\\appdata\\local\\programs\\python\\python310\\lib\\site-packages (from packaging>=20.0->transformers) (3.0.9)\n",
      "Requirement already satisfied: colorama in c:\\users\\deepshika\\appdata\\local\\programs\\python\\python310\\lib\\site-packages (from tqdm>=4.27->transformers) (0.4.5)\n",
      "Requirement already satisfied: urllib3<1.27,>=1.21.1 in c:\\users\\deepshika\\appdata\\local\\programs\\python\\python310\\lib\\site-packages (from requests->transformers) (1.26.10)\n",
      "Requirement already satisfied: charset-normalizer<3,>=2 in c:\\users\\deepshika\\appdata\\local\\programs\\python\\python310\\lib\\site-packages (from requests->transformers) (2.1.0)\n",
      "Requirement already satisfied: certifi>=2017.4.17 in c:\\users\\deepshika\\appdata\\local\\programs\\python\\python310\\lib\\site-packages (from requests->transformers) (2022.6.15)\n",
      "Requirement already satisfied: idna<4,>=2.5 in c:\\users\\deepshika\\appdata\\local\\programs\\python\\python310\\lib\\site-packages (from requests->transformers) (3.3)\n",
      "Installing collected packages: tokenizers, filelock, huggingface-hub, transformers\n",
      "Successfully installed filelock-3.11.0 huggingface-hub-0.13.4 tokenizers-0.13.3 transformers-4.28.1\n"
     ]
    },
    {
     "name": "stderr",
     "output_type": "stream",
     "text": [
      "\n",
      "[notice] A new release of pip available: 22.3.1 -> 23.0.1\n",
      "[notice] To update, run: python.exe -m pip install --upgrade pip\n"
     ]
    }
   ],
   "source": [
    "!pip install transformers"
   ]
  },
  {
   "cell_type": "code",
   "execution_count": 247,
   "id": "d0d0aab0",
   "metadata": {},
   "outputs": [
    {
     "name": "stderr",
     "output_type": "stream",
     "text": [
      "C:\\Users\\Deepshika\\AppData\\Local\\Programs\\Python\\Python310\\lib\\site-packages\\tqdm\\auto.py:22: TqdmWarning: IProgress not found. Please update jupyter and ipywidgets. See https://ipywidgets.readthedocs.io/en/stable/user_install.html\n",
      "  from .autonotebook import tqdm as notebook_tqdm\n"
     ]
    }
   ],
   "source": [
    "import transformers"
   ]
  },
  {
   "cell_type": "code",
   "execution_count": 248,
   "id": "4ffa49db",
   "metadata": {},
   "outputs": [],
   "source": [
    "import tensorflow as tf\n",
    "from transformers import BertTokenizer, TFBertForSequenceClassification #always import tokenizer with model\n",
    "from sklearn.model_selection import train_test_split\n",
    "from sklearn.metrics import accuracy_score, precision_score, recall_score, f1_score"
   ]
  },
  {
   "cell_type": "markdown",
   "id": "b97feb0d",
   "metadata": {},
   "source": [
    " <div style=\"background-color: pink; \">\n",
    "    <p style=\"font-size: 24px; font-weight: bold; color: red;\">Preprocessing of the text data</p>\n",
    "</div>"
   ]
  },
  {
   "cell_type": "code",
   "execution_count": null,
   "id": "a6898361",
   "metadata": {},
   "outputs": [],
   "source": []
  },
  {
   "cell_type": "code",
   "execution_count": 231,
   "id": "1cf54f9c",
   "metadata": {},
   "outputs": [],
   "source": [
    "x['article'] = x['article'].astype(str)\n",
    "x['article']=x['article'].str.lower()\n"
   ]
  },
  {
   "cell_type": "markdown",
   "id": "b89b99c8",
   "metadata": {},
   "source": [
    "### <font color='red'>removing punctuations</font>"
   ]
  },
  {
   "cell_type": "code",
   "execution_count": 233,
   "id": "349d58c6",
   "metadata": {},
   "outputs": [],
   "source": [
    "text=[]\n",
    "for i in x['article']:\n",
    "    text.append(re.sub(r'[^\\w\\s]', '', i))"
   ]
  },
  {
   "cell_type": "markdown",
   "id": "f2715fbb",
   "metadata": {},
   "source": [
    "### <font color='red'>removing stopwords</font>"
   ]
  },
  {
   "cell_type": "code",
   "execution_count": 240,
   "id": "2e7a784b",
   "metadata": {},
   "outputs": [
    {
     "name": "stderr",
     "output_type": "stream",
     "text": [
      "[nltk_data] Downloading package stopwords to\n",
      "[nltk_data]     C:\\Users\\Deepshika\\AppData\\Roaming\\nltk_data...\n",
      "[nltk_data]   Package stopwords is already up-to-date!\n"
     ]
    },
    {
     "data": {
      "text/plain": [
       "3682"
      ]
     },
     "execution_count": 240,
     "metadata": {},
     "output_type": "execute_result"
    }
   ],
   "source": [
    "import nltk\n",
    "nltk.download('stopwords')\n",
    "from nltk.corpus import stopwords\n",
    "from nltk.tokenize import word_tokenize\n",
    "\n",
    "filter_text=[]\n",
    "# Tokenize the text into words\n",
    "for i in text:\n",
    "    words = word_tokenize(i)\n",
    "\n",
    "    # Remove the stopwords from the list of words\n",
    "    filtered_words = [j for j in words if j.lower() not in stopwords.words('english')]\n",
    "\n",
    "    # Join the filtered words back into a sentence\n",
    "    filtered_sentence = ' '.join(filtered_words)\n",
    "    filter_text.append(filtered_sentence)\n",
    "\n",
    "len(filter_text)"
   ]
  },
  {
   "cell_type": "code",
   "execution_count": 261,
   "id": "581bea4d",
   "metadata": {},
   "outputs": [],
   "source": [
    "x['preprocessed_text']=filter_text\n",
    "x['Type']=x['Type'].replace(\"politics\",0)\n",
    "x['Type']=x['Type'].replace(\"Business\",1)\n",
    "x['Type']=x['Type'].replace(\"Sports\",2)"
   ]
  },
  {
   "cell_type": "markdown",
   "id": "80aff951",
   "metadata": {},
   "source": [
    " <div style=\"background-color: pink; \">\n",
    "    <p style=\"font-size: 24px; font-weight: bold; color: red;\">train_test_spliting </p>\n",
    "</div>"
   ]
  },
  {
   "cell_type": "code",
   "execution_count": 262,
   "id": "1dcd79f5",
   "metadata": {},
   "outputs": [],
   "source": [
    "X = x['preprocessed_text']\n",
    "y = x['Type']\n",
    "X_train, X_test, y_train, y_test = train_test_split(X, y, test_size=0.3, random_state=42)"
   ]
  },
  {
   "cell_type": "markdown",
   "id": "42fc8067",
   "metadata": {},
   "source": [
    "<div style=\"background-color: pink; \">\n",
    "    <p style=\"font-size: 24px; font-weight: bold; color: red;\">Loading of pre-trained BERT model </p>\n",
    "</div>"
   ]
  },
  {
   "cell_type": "code",
   "execution_count": 255,
   "id": "9c47d693",
   "metadata": {
    "scrolled": true
   },
   "outputs": [
    {
     "name": "stderr",
     "output_type": "stream",
     "text": [
      "Downloading (…)solve/main/vocab.txt: 100%|██████████████████████████████████████████| 232k/232k [00:00<00:00, 10.1MB/s]\n",
      "C:\\Users\\Deepshika\\AppData\\Local\\Programs\\Python\\Python310\\lib\\site-packages\\huggingface_hub\\file_download.py:133: UserWarning: `huggingface_hub` cache-system uses symlinks by default to efficiently store duplicated files but your machine does not support them in C:\\Users\\Deepshika\\.cache\\huggingface\\hub. Caching files will still work but in a degraded version that might require more space on your disk. This warning can be disabled by setting the `HF_HUB_DISABLE_SYMLINKS_WARNING` environment variable. For more details, see https://huggingface.co/docs/huggingface_hub/how-to-cache#limitations.\n",
      "To support symlinks on Windows, you either need to activate Developer Mode or to run Python as an administrator. In order to see activate developer mode, see this article: https://docs.microsoft.com/en-us/windows/apps/get-started/enable-your-device-for-development\n",
      "  warnings.warn(message)\n",
      "Downloading (…)okenizer_config.json: 100%|██████████████████████████████████████████| 28.0/28.0 [00:00<00:00, 4.00kB/s]\n",
      "Downloading (…)lve/main/config.json: 100%|████████████████████████████████████████████| 570/570 [00:00<00:00, 81.0kB/s]\n",
      "Downloading tf_model.h5: 100%|██████████████████████████████████████████████████████| 536M/536M [02:04<00:00, 4.29MB/s]\n",
      "All model checkpoint layers were used when initializing TFBertForSequenceClassification.\n",
      "\n",
      "Some layers of TFBertForSequenceClassification were not initialized from the model checkpoint at bert-base-uncased and are newly initialized: ['classifier']\n",
      "You should probably TRAIN this model on a down-stream task to be able to use it for predictions and inference.\n"
     ]
    }
   ],
   "source": [
    "# Load the pre-trained BERT model\n",
    "model_name = 'bert-base-uncased'\n",
    "tokenizer = BertTokenizer.from_pretrained(model_name)\n",
    "model = TFBertForSequenceClassification.from_pretrained(model_name, num_labels=3)\n",
    "\n",
    "# Tokenize the data\n",
    "X_train_tokens = tokenizer(X_train.tolist(), padding=True, truncation=True, max_length=128, return_tensors='tf')\n",
    "X_test_tokens = tokenizer(X_test.tolist(), padding=True, truncation=True, max_length=128, return_tensors='tf')\n",
    "\n"
   ]
  },
  {
   "cell_type": "markdown",
   "id": "2337f554",
   "metadata": {},
   "source": [
    "<div style=\"background-color: pink; \">\n",
    "    <p style=\"font-size: 24px; font-weight: bold; color: red;\">Model training </p>\n",
    "</div>"
   ]
  },
  {
   "cell_type": "code",
   "execution_count": 1,
   "id": "66f3064f",
   "metadata": {},
   "outputs": [
    {
     "ename": "NameError",
     "evalue": "name 'tf' is not defined",
     "output_type": "error",
     "traceback": [
      "\u001b[1;31m---------------------------------------------------------------------------\u001b[0m",
      "\u001b[1;31mNameError\u001b[0m                                 Traceback (most recent call last)",
      "Cell \u001b[1;32mIn[1], line 2\u001b[0m\n\u001b[0;32m      1\u001b[0m \u001b[38;5;66;03m# Define the model\u001b[39;00m\n\u001b[1;32m----> 2\u001b[0m optimizer \u001b[38;5;241m=\u001b[39m \u001b[43mtf\u001b[49m\u001b[38;5;241m.\u001b[39mkeras\u001b[38;5;241m.\u001b[39moptimizers\u001b[38;5;241m.\u001b[39mAdam(learning_rate\u001b[38;5;241m=\u001b[39m\u001b[38;5;241m2e-5\u001b[39m)\n\u001b[0;32m      3\u001b[0m loss \u001b[38;5;241m=\u001b[39m tf\u001b[38;5;241m.\u001b[39mkeras\u001b[38;5;241m.\u001b[39mlosses\u001b[38;5;241m.\u001b[39mSparseCategoricalCrossentropy(from_logits\u001b[38;5;241m=\u001b[39m\u001b[38;5;28;01mTrue\u001b[39;00m)\n\u001b[0;32m      4\u001b[0m metric \u001b[38;5;241m=\u001b[39m tf\u001b[38;5;241m.\u001b[39mkeras\u001b[38;5;241m.\u001b[39mmetrics\u001b[38;5;241m.\u001b[39mSparseCategoricalAccuracy(\u001b[38;5;124m'\u001b[39m\u001b[38;5;124maccuracy\u001b[39m\u001b[38;5;124m'\u001b[39m)\n",
      "\u001b[1;31mNameError\u001b[0m: name 'tf' is not defined"
     ]
    }
   ],
   "source": [
    "# Define the model\n",
    "optimizer = tf.keras.optimizers.Adam(learning_rate=2e-5)\n",
    "loss = tf.keras.losses.SparseCategoricalCrossentropy(from_logits=True)\n",
    "metric = tf.keras.metrics.SparseCategoricalAccuracy('accuracy')\n",
    "model.compile(optimizer=optimizer, loss=loss, metrics=[metric])\n",
    "\n",
    "# Train the model\n",
    "history = model.fit(X_train_tokens['input_ids'])\n"
   ]
  },
  {
   "cell_type": "markdown",
   "id": "61a09213",
   "metadata": {},
   "source": [
    "<div style=\"background-color: pink; \">\n",
    "    <p style=\"font-size: 24px; font-weight: bold; color: red;\">Evaluation of model </p>\n",
    "</div>"
   ]
  },
  {
   "cell_type": "code",
   "execution_count": null,
   "id": "70585582",
   "metadata": {},
   "outputs": [],
   "source": [
    "# Evaluate the model\n",
    "y_pred = model.predict(X_test_tokens['input_ids'])\n",
    "y_pred = tf.argmax(y_pred.logits, axis=1)\n",
    "accuracy = accuracy_score(y_test, y_pred)\n",
    "precision = precision_score(y_test, y_pred, average='weighted')\n",
    "recall = recall_score(y_test, y_pred, average='weighted')\n",
    "f1 = f1_score(y_test, y_pred, average='weighted')\n",
    "print(\"Accuracy:\", accuracy)\n",
    "print(\"Precision:\", precision)\n",
    "print(\"Recall:\", recall)\n",
    "print(\"F1-score:\", f1)"
   ]
  },
  {
   "cell_type": "code",
   "execution_count": null,
   "id": "13d4f39d",
   "metadata": {},
   "outputs": [],
   "source": []
  }
 ],
 "metadata": {
  "kernelspec": {
   "display_name": "Python 3 (ipykernel)",
   "language": "python",
   "name": "python3"
  },
  "language_info": {
   "codemirror_mode": {
    "name": "ipython",
    "version": 3
   },
   "file_extension": ".py",
   "mimetype": "text/x-python",
   "name": "python",
   "nbconvert_exporter": "python",
   "pygments_lexer": "ipython3",
   "version": "3.10.4"
  }
 },
 "nbformat": 4,
 "nbformat_minor": 5
}
